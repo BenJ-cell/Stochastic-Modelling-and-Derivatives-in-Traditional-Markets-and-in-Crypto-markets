{
  "cells": [
    {
      "cell_type": "markdown",
      "metadata": {
        "id": "6Omk_h2DEcAT"
      },
      "source": [
        "Calculating option prices using the Black Scholes formula"
      ]
    },
    {
      "cell_type": "code",
      "execution_count": 1,
      "metadata": {
        "colab": {
          "base_uri": "https://localhost:8080/"
        },
        "id": "RipJnCXFEcAW",
        "outputId": "59af3051-127c-416f-9529-ddd4a437adb0"
      },
      "outputs": [
        {
          "output_type": "stream",
          "name": "stdout",
          "text": [
            "European call option price: 6.040088129724239\n"
          ]
        }
      ],
      "source": [
        "import numpy as np\n",
        "from scipy.stats import norm\n",
        "\n",
        "def black_scholes_call(S, K, T, r, sigma):\n",
        "    \"\"\"\n",
        "    Calculates the price of a European call option using the Black-Scholes formula.\n",
        "\n",
        "    :param S: Current price of the underlying asset\n",
        "    :param K: Strike price of the option\n",
        "    :param T: Time to option expiration (in years)\n",
        "    :param r: Risk-free interest rate\n",
        "    :param sigma: Volatility of the underlying asset\n",
        "    :return: Call option price\n",
        "    \"\"\"\n",
        "    d1 = (np.log(S / K) + (r + (sigma**2) / 2) * T) / (sigma * np.sqrt(T))\n",
        "    d2 = d1 - sigma * np.sqrt(T)\n",
        "\n",
        "    call_price = S * norm.cdf(d1) - K * np.exp(-r * T) * norm.cdf(d2)\n",
        "\n",
        "    return call_price\n",
        "\n",
        "# Parameters\n",
        "S = 100 # Current price of underlying asset\n",
        "K = 110 # Option strike price\n",
        "T = 1 # Time to option expiration (1 year)\n",
        "r = 0.05 # Risk-free interest rate (5%)\n",
        "sigma = 0.2 # Volatility of underlying asset (20%)\n",
        "\n",
        "# Calculation of call option price\n",
        "call_option_price = black_scholes_call(S, K, T, r, sigma)\n",
        "\n",
        "print(\"European call option price:\", call_option_price)"
      ]
    },
    {
      "cell_type": "code",
      "execution_count": 2,
      "metadata": {
        "colab": {
          "base_uri": "https://localhost:8080/"
        },
        "id": "jeEU89BWEcAZ",
        "outputId": "4f047918-b5fa-401e-c886-94d42dfac8ea"
      },
      "outputs": [
        {
          "output_type": "stream",
          "name": "stderr",
          "text": [
            "<ipython-input-1-0e996f9b9612>:15: RuntimeWarning: divide by zero encountered in scalar divide\n",
            "  d1 = (np.log(S / K) + (r + (sigma**2) / 2) * T) / (sigma * np.sqrt(T))\n"
          ]
        },
        {
          "output_type": "execute_result",
          "data": {
            "text/plain": [
              "4.877057549928594"
            ]
          },
          "metadata": {},
          "execution_count": 2
        }
      ],
      "source": [
        "black_scholes_call(100,100,1,0.05,0)"
      ]
    },
    {
      "cell_type": "code",
      "execution_count": 3,
      "metadata": {
        "colab": {
          "base_uri": "https://localhost:8080/"
        },
        "id": "eHRIMF5CEcAa",
        "outputId": "af54f061-a882-4734-fb31-1cfd5d16d387"
      },
      "outputs": [
        {
          "output_type": "execute_result",
          "data": {
            "text/plain": [
              "8.838824501300842"
            ]
          },
          "metadata": {},
          "execution_count": 3
        }
      ],
      "source": [
        "black_scholes_call(108.46,108.28,0.565,0.06,0.2123)"
      ]
    },
    {
      "cell_type": "code",
      "execution_count": null,
      "metadata": {
        "id": "lUPZw2ETEcAc"
      },
      "outputs": [],
      "source": [
        "import numpy as np\n",
        "from scipy.stats import norm\n",
        "\n",
        "def black_scholes_call_with_div(S, K, T, r, q,sigma):\n",
        "    \"\"\"\n",
        "    Calculates the price of a European call option using the Black-Scholes formula.\n",
        "\n",
        "    :param S: Current price of the underlying asset\n",
        "    :param K: Strike price of the option\n",
        "    :param T: Time to option expiration (in years)\n",
        "    :param r: Risk-free interest rate\n",
        "    :param sigma: Volatility of the underlying asset\n",
        "    :return: Call option price\n",
        "    \"\"\"\n",
        "    d1 = (np.log(S / K) + ((r-q) + (sigma**2) / 2) * T) / (sigma * np.sqrt(T))\n",
        "    d2 = d1 - sigma * np.sqrt(T)\n",
        "\n",
        "    call_price = S * np.exp(-q * T)* norm.cdf(d1) - K * np.exp(-r * T) * norm.cdf(d2)\n",
        "\n",
        "    return call_price\n",
        "\n",
        "\n",
        "def black_scholes_put_with_div(S, K, T, r,q,sigma):\n",
        "    \"\"\"\n",
        "    Calculates the price of a European put option using the Black-Scholes formula.\n",
        "\n",
        "    :param S: Current price of the underlying asset\n",
        "    :param K: Strike price of the option\n",
        "    :param T: Time to option expiration (in years)\n",
        "    :param r: Risk-free interest rate\n",
        "    :param sigma: Volatility of the underlying asset\n",
        "    :return: Put option price\n",
        "    \"\"\"\n",
        "    d1 = (np.log(S / K) + ((r-q) + (sigma**2) / 2) * T) / (sigma * np.sqrt(T))\n",
        "    d2 = d1 - sigma * np.sqrt(T)\n",
        "\n",
        "    put_price = K * np.exp(-r * T) * norm.cdf(-d2) - S *np.exp(-q * T)* norm.cdf(-d1)\n",
        "\n",
        "    return put_price"
      ]
    },
    {
      "cell_type": "code",
      "execution_count": null,
      "metadata": {
        "colab": {
          "base_uri": "https://localhost:8080/"
        },
        "id": "QT_iUpEnEcAd",
        "outputId": "e9214407-5529-4543-e8b6-2cd884270aa4"
      },
      "outputs": [
        {
          "output_type": "execute_result",
          "data": {
            "text/plain": [
              "1.8237579438380536"
            ]
          },
          "metadata": {},
          "execution_count": 6
        }
      ],
      "source": [
        "black_scholes_call_with_div(93.36,95.55,0.331,0.015,0.03,0.1375)"
      ]
    },
    {
      "cell_type": "code",
      "execution_count": 4,
      "metadata": {
        "colab": {
          "base_uri": "https://localhost:8080/"
        },
        "id": "uiYzv2HfEcAe",
        "outputId": "3974d370-13ed-44ee-862d-681161cbe449"
      },
      "outputs": [
        {
          "output_type": "stream",
          "name": "stdout",
          "text": [
            "European put option price: 10.675324824802793\n"
          ]
        }
      ],
      "source": [
        "import numpy as np\n",
        "from scipy.stats import norm\n",
        "\n",
        "def black_scholes_put(S, K, T, r, sigma):\n",
        "    \"\"\"\n",
        "    Calculates the price of a European put option using the Black-Scholes formula.\n",
        "\n",
        "    :param S: Current price of the underlying asset\n",
        "    :param K: Strike price of the option\n",
        "    :param T: Time to option expiration (in years)\n",
        "    :param r: Risk-free interest rate\n",
        "    :param sigma: Volatility of the underlying asset\n",
        "    :return: Put option price\n",
        "    \"\"\"\n",
        "    d1 = (np.log(S / K) + (r + (sigma**2) / 2) * T) / (sigma * np.sqrt(T))\n",
        "    d2 = d1 - sigma * np.sqrt(T)\n",
        "\n",
        "    put_price = K * np.exp(-r * T) * norm.cdf(-d2) - S * norm.cdf(-d1)\n",
        "\n",
        "    return put_price\n",
        "\n",
        "# Parameters\n",
        "S = 100 # Current price of underlying asset\n",
        "K = 110 # Option strike price\n",
        "T = 1 # Time to option expiration (1 year)\n",
        "r = 0.05 # Risk-free interest rate (5%)\n",
        "sigma = 0.2 # Volatility of underlying asset (20%)\n",
        "\n",
        "# Put option price calculation\n",
        "put_option_price = black_scholes_put(S, K, T, r, sigma)\n",
        "\n",
        "print(\"European put option price:\", put_option_price)"
      ]
    },
    {
      "cell_type": "code",
      "execution_count": null,
      "metadata": {
        "id": "GV6ezc-fEcAf"
      },
      "outputs": [],
      "source": [
        "def black_scholes_power_call_with_div(S, K, T, r, q,sigma,n):\n",
        "    \"\"\"\n",
        "    Calculates the price of a European call option using the Black-Scholes formula.\n",
        "\n",
        "    :param S: Current price of the underlying asset\n",
        "    :param K: Strike price of the option\n",
        "    :param T: Time to option expiration (in years)\n",
        "    :param r: Risk-free interest rate\n",
        "    :param sigma: Volatility of the underlying asset\n",
        "    :return: Call option price\n",
        "    \"\"\"\n",
        "    d1 = (np.log(S / (K**(1/n))) + ((r-q) + (sigma**2)*(n-1/2)) * T) / (sigma * np.sqrt(T))\n",
        "    d2 = d1 - n*sigma * np.sqrt(T)\n",
        "\n",
        "    call_price = (S**n)*((np.exp((n-1)*(r+(n*(sigma**2))/2)-n*q))*T)*norm.cdf(d1) - K * np.exp(-r * T) * norm.cdf(d2)\n",
        "\n",
        "    return call_price"
      ]
    },
    {
      "cell_type": "code",
      "execution_count": null,
      "metadata": {
        "id": "BxjOcdEhEcAg"
      },
      "outputs": [],
      "source": [
        "def black_scholes_power_call_with_div(S, K, T, r, q,sigma,n):\n",
        "    \"\"\"\n",
        "    Calculates the price of a European call option using the Black-Scholes formula.\n",
        "\n",
        "    :param S: Current price of the underlying asset\n",
        "    :param K: Strike price of the option\n",
        "    :param T: Time to option expiration (in years)\n",
        "    :param r: Risk-free interest rate\n",
        "    :param sigma: Volatility of the underlying asset\n",
        "    :return: Call option price\n",
        "    \"\"\"\n",
        "    d1 = (np.log(S / (K**(1/n))) + ((r-q) + (sigma**2)*(n-1/2)) * T) / (sigma * np.sqrt(T))\n",
        "    d2 = d1 - n*sigma * np.sqrt(T)\n",
        "\n",
        "    call_price = (S**n)*((np.exp((n-1)*(r+(n*(sigma**2))/2)-n*q))*T)*norm.cdf(d1) - K * np.exp(-r * T) * norm.cdf(d2)\n",
        "\n",
        "    return call_price"
      ]
    },
    {
      "cell_type": "code",
      "execution_count": null,
      "metadata": {
        "id": "SfyOTo2tEcAh"
      },
      "outputs": [],
      "source": [
        "def BSCallPower(S0, T, K, r, sigma, q,n):\n",
        "    dplus = 1/(sigma*np.sqrt(T)) * (np.log(S0/(K**(1/n))) +((r-q) + (n-1/2) * sigma**2)*T)\n",
        "    dminus = dplus - n* sigma * np.sqrt(T)\n",
        "    leftterm = S0**n *np.exp(((n-1)*(r + n*sigma**2/2) -n*q)* T ) * norm.cdf(dplus)\n",
        "    rightterm = K * np.exp(-r*T)* norm.cdf(dminus)\n",
        "    V0 = leftterm - rightterm\n",
        "    return(V0)"
      ]
    },
    {
      "cell_type": "code",
      "execution_count": null,
      "metadata": {
        "id": "7IZTTxNLEcAh"
      },
      "outputs": [],
      "source": [
        "import numpy as np\n",
        "from scipy.stats import norm\n",
        "def black_scholes_digital_call(S, K, r, q, T, sigma):\n",
        "    d1 = (np.log(S / K) + (r - q + 0.5 * sigma ** 2) * T) / (sigma * np.sqrt(T))\n",
        "    d2 = d1 - sigma * np.sqrt(T)\n",
        "    Nd2 = norm.cdf(d2)\n",
        "    price = np.exp(-r * T) * Nd2\n",
        "    return price"
      ]
    },
    {
      "cell_type": "code",
      "execution_count": null,
      "metadata": {
        "colab": {
          "base_uri": "https://localhost:8080/"
        },
        "id": "5_US_sjuEcAi",
        "outputId": "2b677769-dc1e-4e38-cce2-84842163e7ea"
      },
      "outputs": [
        {
          "output_type": "execute_result",
          "data": {
            "text/plain": [
              "0.38364508285294946"
            ]
          },
          "metadata": {},
          "execution_count": 12
        }
      ],
      "source": [
        "black_scholes_digital_call(90.62,94.77,0.038,0.017,0.722,0.1832)"
      ]
    },
    {
      "cell_type": "code",
      "execution_count": null,
      "metadata": {
        "colab": {
          "base_uri": "https://localhost:8080/"
        },
        "id": "fd2Fq4oxEcAk",
        "outputId": "0fe171cc-107e-43c4-b884-72695d7cd7b3"
      },
      "outputs": [
        {
          "output_type": "execute_result",
          "data": {
            "text/plain": [
              "0.2542366261555088"
            ]
          },
          "metadata": {},
          "execution_count": 13
        }
      ],
      "source": [
        "BSCallPower(1.04,0.113,0.96,0.1,0.1348,0.057,4)"
      ]
    },
    {
      "cell_type": "code",
      "execution_count": null,
      "metadata": {
        "colab": {
          "base_uri": "https://localhost:8080/"
        },
        "id": "Z-SEeX3XEcAm",
        "outputId": "409493be-73fb-4ace-83c9-e277ca9524a9"
      },
      "outputs": [
        {
          "output_type": "stream",
          "name": "stdout",
          "text": [
            "Call option price: 9977.333696333002\n"
          ]
        }
      ],
      "source": [
        "def binomial_option_pricing(S0, u, d, r, K, P):\n",
        "    # Initializations\n",
        "    q = (1 + r - d) / (u - d)\n",
        "    p = 1 - q\n",
        "    option_tree = [[0] * (i + 1) for i in range(P + 1)]  # Initialize the option tree\n",
        "\n",
        "    # Calculate option prices at expiration (P periods)\n",
        "    for i in range(P + 1):\n",
        "        option_tree[P][i] = max(S0*S0 * (u ** i) * (d ** (P - i)) - K, 0)\n",
        "\n",
        "    # Backward induction to calculate option prices at earlier periods\n",
        "    for period in range(P - 1, -1, -1):\n",
        "        for i in range(period + 1):\n",
        "            S = S0 * (u ** i) * (d ** (period - i))\n",
        "            option_tree[period][i] = (p * option_tree[period + 1][i] + q * option_tree[period + 1][i + 1]) / (1 + r)\n",
        "\n",
        "    return option_tree[0][0]\n",
        "\n",
        "# Example usage\n",
        "S0 = 100.38  # Initial stock price\n",
        "u = 1+0.0276   # Up factor\n",
        "d = 1-0.0290   # Down factor\n",
        "r = 0.009  # Risk-free interest rate\n",
        "K = 99.70   # Strike price\n",
        "P = 1     # Number of periods\n",
        "\n",
        "call_price = binomial_option_pricing(S0, u, d, r, K, P)\n",
        "print(\"Call option price:\", call_price)\n",
        "\n",
        "\n",
        "def returnDo(S0, u, d, r, K,) :\n",
        "    payoffU=max(S0*u-K,0)\n",
        "    payoffD=max(S0*d-K,0)\n",
        "    return (payoffU-payoffD)/(S0*u-S0*d)"
      ]
    },
    {
      "cell_type": "code",
      "execution_count": null,
      "metadata": {
        "colab": {
          "base_uri": "https://localhost:8080/"
        },
        "id": "zYomG04SEcAn",
        "outputId": "923f9b2c-585f-4611-849e-a840324f242d"
      },
      "outputs": [
        {
          "output_type": "stream",
          "name": "stdout",
          "text": [
            "Call option price: 0.7275715600980223\n"
          ]
        }
      ],
      "source": [
        "call_price = binomial_option_pricing(9.93, 1.0165,0.9734, 0.009, 100.80, 2)\n",
        "print(\"Call option price:\", call_price)"
      ]
    },
    {
      "cell_type": "code",
      "execution_count": null,
      "metadata": {
        "colab": {
          "base_uri": "https://localhost:8080/"
        },
        "id": "XVf_56ezEcAn",
        "outputId": "9f48bf2f-7df5-4b20-b376-4e2ba5106c52"
      },
      "outputs": [
        {
          "output_type": "execute_result",
          "data": {
            "text/plain": [
              "0.9734"
            ]
          },
          "metadata": {},
          "execution_count": 16
        }
      ],
      "source": [
        "u=1+ 1.65/100\n",
        "d= 1 - 2.66/100\n",
        "d"
      ]
    },
    {
      "cell_type": "code",
      "execution_count": null,
      "metadata": {
        "id": "h53yhHAXEcAo"
      },
      "outputs": [],
      "source": [
        "import numpy as np\n",
        "from scipy.stats import norm\n",
        "\n",
        "def bs_vega(S, K, T, r, sigma, option_type):\n",
        "    \"\"\"\n",
        "    Calculates the Vega of an option (call or put) using the Black-Scholes formula.\n",
        "\n",
        "    :param S: Current price of the underlying asset\n",
        "    :param K: Option strike price\n",
        "    :param T: Time to option expiration (in years)\n",
        "    :param r: Risk-free interest rate\n",
        "    :param sigma: Volatility of the underlying asset\n",
        "    :param option_type: Type of option ('call' for a call, 'put' for a put)\n",
        "    :return: Vega of the option\n",
        "    \"\"\"\n",
        "    d1 = (np.log(S / K) + (r + (sigma**2) / 2) * T) / (sigma * np.sqrt(T))\n",
        "\n",
        "    if option_type == 'call':\n",
        "        vega = S * np.sqrt(T) * norm.pdf(d1)\n",
        "    elif option_type == 'put':\n",
        "        vega = S * np.sqrt(T) * norm.pdf(d1)\n",
        "\n",
        "    return vega"
      ]
    },
    {
      "cell_type": "code",
      "execution_count": null,
      "metadata": {
        "id": "phZukz91EcAo"
      },
      "outputs": [],
      "source": [
        "import numpy as np\n",
        "from scipy.stats import norm\n",
        "\n",
        "def black_scholes_call_delta_S(S, K, T, r, sigma):\n",
        "    \"\"\"\n",
        "    Calculates the delta of a European call option using the Black-Scholes formula.\n",
        "\n",
        "    :param S: Current price of the underlying asset\n",
        "    :param K: Strike price of the option\n",
        "    :param T: Time to option expiration (in years)\n",
        "    :param r: Risk-free interest rate\n",
        "    :param sigma: Volatility of the underlying asset\n",
        "    :return: Delta of call option\n",
        "    \"\"\"\n",
        "    d1 = (np.log(S / K) + (r + (sigma**2) / 2) * T) / (sigma * np.sqrt(T))\n",
        "\n",
        "    # Delta calculation\n",
        "    delta = norm.cdf(d1)\n",
        "\n",
        "    return delta\n",
        "\n",
        "def black_scholes_put_delta_S(S, K, T, r, sigma):\n",
        "    \"\"\"\n",
        "    Calculates the delta of a European put option using the Black-Scholes formula.\n",
        "\n",
        "    :param S: Current price of the underlying asset\n",
        "    :param K: Strike price of the option\n",
        "    :param T: Time to option expiry (in years)\n",
        "    :param r: Risk-free interest rate\n",
        "    :param sigma: Volatility of the underlying asset\n",
        "    :return: Delta of the put option\n",
        "    \"\"\"\n",
        "    d1 = (np.log(S / K) + (r + (sigma**2) / 2) * T) / (sigma * np.sqrt(T))\n",
        "\n",
        "    # Calculation of delta for a put (negative)\n",
        "    put_delta = -norm.cdf(-d1)\n",
        "\n",
        "    return put_delta\n",
        "\n",
        "def black_scholes_call_delta_K(S, K, T, r, sigma):\n",
        "    \"\"\"\n",
        "    Calculates the delta with respect to K of a European call option using the Black-Scholes formula.\n",
        "\n",
        "    :param S: Current price of the underlying asset\n",
        "    :param K: Strike price of the option\n",
        "    :param T: Time to option expiration (in years)\n",
        "    :param r: Risk-free interest rate\n",
        "    :param sigma: Volatility of the underlying asset\n",
        "    :return: Delta relative to K of the call option\n",
        "    \"\"\"\n",
        "    d1 = (np.log(S / K) + (r + (sigma**2) / 2) * T) / (sigma * np.sqrt(T))\n",
        "\n",
        "    # Calculation of delta relative to K for a call\n",
        "    call_delta_K = norm.cdf(d1) * np.exp(-r * T)\n",
        "\n",
        "    return call_delta_K\n",
        "\n",
        "def black_scholes_put_delta_K(S, K, T, r, sigma):\n",
        "    \"\"\"\n",
        "    Calcule le delta par rapport à K d'une option de vente européenne (put option) en utilisant la formule de Black-Scholes.\n",
        "\n",
        "    :param S: Prix actuel de l'actif sous-jacent\n",
        "    :param K: Prix d'exercice (strike price) de l'option\n",
        "    :param T: Temps jusqu'à l'expiration de l'option (en années)\n",
        "    :param r: Taux d'intérêt sans risque\n",
        "    :param sigma: Volatilité de l'actif sous-jacent\n",
        "    :return: Delta par rapport à K de l'option de vente\n",
        "    \"\"\"\n",
        "    d1 = (np.log(S / K) + (r + (sigma**2) / 2) * T) / (sigma * np.sqrt(T))\n",
        "\n",
        "    # Calcul du delta par rapport à K d'un put (négatif)\n",
        "    put_delta_K = -norm.cdf(-d1) * np.exp(-r * T)\n",
        "\n",
        "    return put_delta_K\n",
        "\n",
        "\n",
        "def black_scholes_call_delta_S_with_div(S, K, T, r,q, sigma):\n",
        "    \"\"\"\n",
        "    Calculate the delta of a European call option using the Black-Scholes formula.\n",
        "\n",
        "    :param S: Current price of the underlying asset\n",
        "    :param K: Strike price of the option\n",
        "    :param T: Time until the option's expiration (in years)\n",
        "    :param r: Risk-free interest rate\n",
        "    :param sigma: Volatility of the underlying asset\n",
        "    :return: Delta of the call option\n",
        "    \"\"\"\n",
        "    d1 = (np.log(S / K) + (r-q + (sigma**2) / 2) * T) / (sigma * np.sqrt(T))\n",
        "\n",
        "    # Calcul du delta\n",
        "    delta = np.exp(-q*T)*norm.cdf(d1)\n",
        "\n",
        "    return delta\n",
        "\n",
        "def black_scholes_put_delta_S_with_div(S, K, T, r,q, sigma):\n",
        "    \"\"\"\n",
        "    Calculate the delta of a European put option using the Black-Scholes formula.\n",
        "\n",
        "    :param S: Current price of the underlying asset\n",
        "    :param K: Strike price of the option\n",
        "    :param T: Time until the option's expiration (in years)\n",
        "    :param r: Risk-free interest rate\n",
        "    :param sigma: Volatility of the underlying asset\n",
        "    :return: Delta of the put option\n",
        "    \"\"\"\n",
        "    d1 = (np.log(S / K) + (r-q + (sigma**2) / 2) * T) / (sigma * np.sqrt(T))\n",
        "\n",
        "    # Calcul du delta pour un put (négatif)\n",
        "    put_delta = -norm.cdf(-d1)*np.exp(-q*T)\n",
        "\n",
        "    return put_delta"
      ]
    },
    {
      "cell_type": "code",
      "execution_count": null,
      "metadata": {
        "colab": {
          "base_uri": "https://localhost:8080/"
        },
        "id": "uYBv03BxEcAp",
        "outputId": "3f5d87d5-85d5-44c5-bb5d-0e2a12128487"
      },
      "outputs": [
        {
          "output_type": "execute_result",
          "data": {
            "text/plain": [
              "1.0"
            ]
          },
          "metadata": {},
          "execution_count": 19
        }
      ],
      "source": [
        "import numpy as np\n",
        "from scipy.stats import norm\n",
        "\n",
        "norm.cdf(20.2245)"
      ]
    },
    {
      "cell_type": "code",
      "execution_count": null,
      "metadata": {
        "colab": {
          "base_uri": "https://localhost:8080/"
        },
        "id": "J_JlgK-OEcAq",
        "outputId": "3c3be62d-a036-4c34-b4ab-c203d8af506a"
      },
      "outputs": [
        {
          "output_type": "execute_result",
          "data": {
            "text/plain": [
              "0.7063552420482662"
            ]
          },
          "metadata": {},
          "execution_count": 20
        }
      ],
      "source": [
        "black_scholes_call_delta_S(98.23,94.79,0.66,0.02,0.1219)"
      ]
    },
    {
      "cell_type": "code",
      "execution_count": null,
      "metadata": {
        "id": "oi7Q5emiEcAq"
      },
      "outputs": [],
      "source": [
        "import numpy as np\n",
        "from scipy.stats import norm\n",
        "\n",
        "def black_scholes_put_gamma(S, K, T, r, sigma):\n",
        "    \"\"\"\n",
        "    Calculate the gamma of a European put option using the Black-Scholes formula.\n",
        "\n",
        "    :param S: Current price of the underlying asset\n",
        "    :param K: Strike price of the option\n",
        "    :param T: Time until the option's expiration (in years)\n",
        "    :param r: Risk-free interest rate\n",
        "    :param sigma: Volatility of the underlying asset\n",
        "    :return: Gamma of the put option\n",
        "    \"\"\"\n",
        "    d1 = (np.log(S / K) + (r + (sigma**2) / 2) * T) / (sigma * np.sqrt(T))\n",
        "\n",
        "    # Calcul du gamma d'un put\n",
        "    put_gamma = norm.pdf(d1) / (S * sigma * np.sqrt(T))\n",
        "\n",
        "    return put_gamma\n",
        "\n",
        "\n",
        "def black_scholes_call_gamma(S, K, T, r, sigma):\n",
        "    \"\"\"\n",
        "    Calculate the gamma of a European call option using the Black-Scholes formula.\n",
        "\n",
        "    :param S: Current price of the underlying asset\n",
        "    :param K: Strike price of the option\n",
        "    :param T: Time until the option's expiration (in years)\n",
        "    :param r: Risk-free interest rate\n",
        "    :param sigma: Volatility of the underlying asset\n",
        "    :return: Gamma of the call option\n",
        "    \"\"\"\n",
        "    d1 = (np.log(S / K) + (r + (sigma**2) / 2) * T) / (sigma * np.sqrt(T))\n",
        "\n",
        "    # Calcul du gamma d'un call\n",
        "    call_gamma = norm.pdf(d1) / (S * sigma * np.sqrt(T))\n",
        "\n",
        "    return call_gamma\n",
        "\n",
        "def black_scholes_put_gamma_with_div(S, K, T, r,q, sigma):\n",
        "    \"\"\"\n",
        "    Calculate the gamma of a European put option using the Black-Scholes formula.\n",
        "\n",
        "    :param S: Current price of the underlying asset\n",
        "    :param K: Strike price of the option\n",
        "    :param T: Time until the option's expiration (in years)\n",
        "    :param r: Risk-free interest rate\n",
        "    :param sigma: Volatility of the underlying asset\n",
        "    :return: Gamma of the put option\n",
        "    \"\"\"\n",
        "    d1 = (np.log(S / K) + (r-q + (sigma**2) / 2) * T) / (sigma * np.sqrt(T))\n",
        "\n",
        "    # Calcul du gamma d'un put\n",
        "    put_gamma = np.exp(-q*t)*norm.pdf(d1) / (S * sigma * np.sqrt(T))\n",
        "\n",
        "    return put_gamma"
      ]
    },
    {
      "cell_type": "code",
      "execution_count": null,
      "metadata": {
        "colab": {
          "base_uri": "https://localhost:8080/"
        },
        "id": "gP9fqRtmEcAr",
        "outputId": "bf6b329f-2354-424a-8c40-5eb5f2218de0"
      },
      "outputs": [
        {
          "output_type": "execute_result",
          "data": {
            "text/plain": [
              "0.04205567637526582"
            ]
          },
          "metadata": {},
          "execution_count": 22
        }
      ],
      "source": [
        "black_scholes_put_gamma(92.14,98.33,0.726,0.064,0.1198)"
      ]
    },
    {
      "cell_type": "code",
      "execution_count": null,
      "metadata": {
        "id": "-QjNPcBuEcAr"
      },
      "outputs": [],
      "source": [
        "def black_scholes_call_theta(S, K, T, r, sigma):\n",
        "    \"\"\"\n",
        "    Calculate the theta of a European call option using the Black-Scholes formula.\n",
        "\n",
        "    :param S: Current price of the underlying asset\n",
        "    :param K: Strike price of the option\n",
        "    :param T: Time until the option's expiration (in years)\n",
        "    :param r: Risk-free interest rate\n",
        "    :param sigma: Volatility of the underlying asset\n",
        "    :return: Theta of the call option\n",
        "    \"\"\"\n",
        "    d1 = (np.log(S / K) + (r + (sigma**2) / 2) * T) / (sigma * np.sqrt(T))\n",
        "    d2 = d1 - sigma * np.sqrt(T)\n",
        "\n",
        "    # Calcul du teta d'un call\n",
        "    call_theta = -(S * norm.pdf(d1) * sigma) / (2 * np.sqrt(T)) - r * K * np.exp(-r * T) * norm.cdf(d2)\n",
        "\n",
        "    return call_theta\n",
        "\n",
        "def black_scholes_put_theta(S, K, T, r, sigma):\n",
        "    \"\"\"\n",
        "    Calculate the theta of a European put option using the Black-Scholes formula.\n",
        "\n",
        "    :param S: Current price of the underlying asset\n",
        "    :param K: Strike price of the option\n",
        "    :param T: Time until the option's expiration (in years)\n",
        "    :param r: Risk-free interest rate\n",
        "    :param sigma: Volatility of the underlying asset\n",
        "    :return: Theta of the put option\n",
        "    \"\"\"\n",
        "    d1 = (np.log(S / K) + (r + (sigma**2) / 2) * T) / (sigma * np.sqrt(T))\n",
        "    d2 = d1 - sigma * np.sqrt(T)\n",
        "\n",
        "    # Calcul du teta d'un put\n",
        "    put_theta = -(S * norm.pdf(d1) * sigma) / (2 * np.sqrt(T)) + r * K * np.exp(-r * T) * norm.cdf(-d2)\n",
        "\n",
        "    return put_theta\n",
        "\n",
        "def black_scholes_call_theta_with_div(S, K, T, r,q, sigma):\n",
        "    \"\"\"\n",
        "    Calculates the theta of a European call option using the Black-Scholes formula.\n",
        "\n",
        "    :param S: Current price of the underlying asset\n",
        "    :param K: Strike price of the option\n",
        "    :param T: Time until the option's expiration (in years)\n",
        "    :param r: Risk-free interest rate\n",
        "    :param sigma: Volatility of the underlying asset\n",
        "    :return: Theta of the call option\n",
        "    \"\"\"\n",
        "    d1 = (np.log(S / K) + (r-q + (sigma**2) / 2) * T) / (sigma * np.sqrt(T))\n",
        "    d2 = d1 - sigma * np.sqrt(T)\n",
        "\n",
        "    # Calcul du teta d'un call\n",
        "    call_theta = -(S * norm.pdf(d1) * sigma*np.exp(-q*t)) / (2 * np.sqrt(T)) - r * K * np.exp(-r * T) * norm.cdf(d2)\n",
        "\n",
        "    return call_theta\n",
        "\n",
        "def black_scholes_put_theta_with_div(S, K, T, r,q, sigma):\n",
        "    \"\"\"\n",
        "    Calculate the theta of a European put option using the Black-Scholes formula.\n",
        "\n",
        "    :param S: Current price of the underlying asset\n",
        "    :param K: Strike price of the option\n",
        "    :param T: Time until the option's expiration (in years)\n",
        "    :param r: Risk-free interest rate\n",
        "    :param sigma: Volatility of the underlying asset\n",
        "    :return: Theta of the put option\n",
        "    \"\"\"\n",
        "    d1 = (np.log(S / K) + (r-q + (sigma**2) / 2) * T) / (sigma * np.sqrt(T))\n",
        "    d2 = d1 - sigma * np.sqrt(T)\n",
        "\n",
        "    # Calcul du teta d'un put\n",
        "    put_theta = -(S * norm.pdf(d1) * sigma) / (2 * np.sqrt(T)) + r * K * np.exp(-r * T) * norm.cdf(-d2)\n",
        "\n",
        "    return put_theta"
      ]
    },
    {
      "cell_type": "code",
      "execution_count": null,
      "metadata": {
        "id": "O3h1HYhdEcAs"
      },
      "outputs": [],
      "source": [
        "def black_scholes_call_rho(S, K, T, r, sigma):\n",
        "    \"\"\"\n",
        "    Calculate the rho of a European call option using the Black-Scholes formula.\n",
        "\n",
        "    :param S: Current price of the underlying asset\n",
        "    :param K: Strike price of the option\n",
        "    :param T: Time until the option's expiration (in years)\n",
        "    :param r: Risk-free interest rate\n",
        "    :param sigma: Volatility of the underlying asset\n",
        "    :return: Rho of the call option\n",
        "    \"\"\"\n",
        "    d1 = (np.log(S / K) + (r + (sigma**2) / 2) * T) / (sigma * np.sqrt(T))\n",
        "    d2 = d1 - sigma * np.sqrt(T)\n",
        "\n",
        "    # Calcul du rho d'un call\n",
        "    call_rho = K * T * np.exp(-r * T) * norm.cdf(d2)\n",
        "\n",
        "    return call_rho\n",
        "\n",
        "\n",
        "def black_scholes_put_rho(S, K, T, r, sigma):\n",
        "    \"\"\"\n",
        "    Calculate the rho of a European put option using the Black-Scholes formula.\n",
        "\n",
        "    :param S: Current price of the underlying asset\n",
        "    :param K: Strike price of the option\n",
        "    :param T: Time until the option's expiration (in years)\n",
        "    :param r: Risk-free interest rate\n",
        "    :param sigma: Volatility of the underlying asset\n",
        "    :return: Rho of the put option\n",
        "    \"\"\"\n",
        "    d1 = (np.log(S / K) + (r + (sigma**2) / 2) * T) / (sigma * np.sqrt(T))\n",
        "    d2 = d1 - sigma * np.sqrt(T)\n",
        "\n",
        "    # Calcul du rho d'un put\n",
        "    put_rho = -K * T * np.exp(-r * T) * norm.cdf(-d2)\n",
        "\n",
        "    return put_rho\n",
        "\n",
        "def black_scholes_call_rho_with_div(S, K, T, r,q,sigma):\n",
        "    \"\"\"\n",
        "    Calcule le rho d'une option d'achat européenne (call option) en utilisant la formule de Black-Scholes.\n",
        "\n",
        "    :param S: Prix actuel de l'actif sous-jacent\n",
        "    :param K: Prix d'exercice (strike price) de l'option\n",
        "    :param T: Temps jusqu'à l'expiration de l'option (en années)\n",
        "    :param r: Taux d'intérêt sans risque\n",
        "    :param sigma: Volatilité de l'actif sous-jacent\n",
        "    :return: Rho de l'option d'achat\n",
        "    \"\"\"\n",
        "    d1 = (np.log(S / K) + (r-q + (sigma**2) / 2) * T) / (sigma * np.sqrt(T))\n",
        "    d2 = d1 - sigma * np.sqrt(T)\n",
        "\n",
        "    # Calcul du rho d'un call\n",
        "    call_rho = K * T * np.exp(-r * T) * norm.cdf(d2)\n",
        "\n",
        "    return call_rho\n",
        "\n",
        "\n",
        "def black_scholes_put_rho_with_div(S, K, T, r,q,sigma):\n",
        "    \"\"\"\n",
        "    Calculate the rho of a European call option using the Black-Scholes formula.\n",
        "\n",
        "    :param S: Current price of the underlying asset\n",
        "    :param K: Strike price of the option\n",
        "    :param T: Time until the option's expiration (in years)\n",
        "    :param r: Risk-free interest rate\n",
        "    :param sigma: Volatility of the underlying asset\n",
        "    :return: Rho of the call option\n",
        "    \"\"\"\n",
        "    d1 = (np.log(S / K) + (r-q + (sigma**2) / 2) * T) / (sigma * np.sqrt(T))\n",
        "    d2 = d1 - sigma * np.sqrt(T)\n",
        "\n",
        "    # Calcul du rho d'un put\n",
        "    put_rho = -K * T * np.exp(-r * T) * norm.cdf(-d2)\n",
        "\n",
        "    return put_rho"
      ]
    },
    {
      "cell_type": "code",
      "execution_count": null,
      "metadata": {
        "id": "TepzDbWwEcAs"
      },
      "outputs": [],
      "source": [
        "N_prime = norm.pdf\n",
        "\n",
        "\n",
        "def vega(S, K, T, r, sigma):\n",
        "    '''\n",
        "\n",
        "    :param S: Asset price\n",
        "    :param K: Strike price\n",
        "    :param T: Time to Maturity\n",
        "    :param r: risk-free rate (treasury bills)\n",
        "    :param sigma: volatility\n",
        "    :return: partial derivative w.r.t volatility\n",
        "    '''\n",
        "\n",
        "    ### calculating d1 from black scholes\n",
        "    d1 = (np.log(S / K) + (r + sigma ** 2 / 2) * T) / sigma * np.sqrt(T)\n",
        "\n",
        "\n",
        "    vega = S  * np.sqrt(T) * N_prime(d1)\n",
        "    return vega\n",
        "\n",
        "\n",
        "def vega_with_div(S, K, T, r,q, sigma):\n",
        "    '''\n",
        "\n",
        "    :param S: Asset price\n",
        "    :param K: Strike price\n",
        "    :param T: Time to Maturity\n",
        "    :param r: risk-free rate (treasury bills)\n",
        "    :param sigma: volatility\n",
        "    :return: partial derivative w.r.t volatility\n",
        "    '''\n",
        "\n",
        "    ### calculating d1 from black scholes\n",
        "    d1 = (np.log(S / K) + (r-q + (sigma ** 2 )/ 2) * T) / sigma * np.sqrt(T)\n",
        "\n",
        "\n",
        "    vega = S  * np.sqrt(T) * N_prime(d1)*np.exp(-q*T)\n",
        "    return vega"
      ]
    },
    {
      "cell_type": "code",
      "execution_count": null,
      "metadata": {
        "colab": {
          "base_uri": "https://localhost:8080/"
        },
        "id": "qm2q9FwBEcAt",
        "outputId": "9fedfbfe-61a1-433d-e5ed-bded3120f93f"
      },
      "outputs": [
        {
          "output_type": "execute_result",
          "data": {
            "text/plain": [
              "14.41963297942599"
            ]
          },
          "metadata": {},
          "execution_count": 26
        }
      ],
      "source": [
        "vega_with_div(91.75,98.27,0.158,0.01,0.012,0.2181)"
      ]
    },
    {
      "cell_type": "code",
      "execution_count": null,
      "metadata": {
        "id": "9LmUrZQEEcAt"
      },
      "outputs": [],
      "source": [
        "def implied_volatility_call(C, S, K, T, r, tol=0.0001,\n",
        "                            max_iterations=100):\n",
        "    '''\n",
        "\n",
        "    :param C: Observed call price\n",
        "    :param S: Asset price\n",
        "    :param K: Strike Price\n",
        "    :param T: Time to Maturity\n",
        "    :param r: riskfree rate\n",
        "    :param tol: error tolerance in result\n",
        "    :param max_iterations: max iterations to update vol\n",
        "    :return: implied volatility in percent\n",
        "    '''\n",
        "\n",
        "\n",
        "    ### assigning initial volatility estimate for input in Newton_rap procedure\n",
        "    sigma = 0.3\n",
        "\n",
        "    for i in range(max_iterations):\n",
        "\n",
        "        ### calculate difference between blackscholes price and market price with\n",
        "        ### iteratively updated volality estimate\n",
        "        diff = black_scholes_call(S, K, T, r, sigma) - C\n",
        "\n",
        "        ###break if difference is less than specified tolerance level\n",
        "        if abs(diff) < tol:\n",
        "            print(f'found on {i}th iteration')\n",
        "            print(f'difference is equal to {diff}')\n",
        "            break\n",
        "\n",
        "        ### use newton rapshon to update the estimate\n",
        "        sigma = sigma - diff / vega_with_div(S, K, T, r,q, sigma)\n",
        "\n",
        "    return sigma\n",
        "\n",
        "def implied_volatility_call_with_div(C, S, K, T, r,q, tol=0.0001,\n",
        "                            max_iterations=100):\n",
        "    '''\n",
        "\n",
        "    :param C: Observed call price\n",
        "    :param S: Asset price\n",
        "    :param K: Strike Price\n",
        "    :param T: Time to Maturity\n",
        "    :param r: riskfree rate\n",
        "    :param tol: error tolerance in result\n",
        "    :param max_iterations: max iterations to update vol\n",
        "    :return: implied volatility in percent\n",
        "    '''\n",
        "\n",
        "\n",
        "    ### assigning initial volatility estimate for input in Newton_rap procedure\n",
        "    sigma = 0.3\n",
        "\n",
        "    for i in range(max_iterations):\n",
        "\n",
        "        ### calculate difference between blackscholes price and market price with\n",
        "        ### iteratively updated volality estimate\n",
        "        diff = black_scholes_call_with_div(S, K, T, r,q, sigma) - C\n",
        "\n",
        "        ###break if difference is less than specified tolerance level\n",
        "        if abs(diff) < tol:\n",
        "            print(f'found on {i}th iteration')\n",
        "            print(f'difference is equal to {diff}')\n",
        "            break\n",
        "\n",
        "        ### use newton rapshon to update the estimate\n",
        "        sigma = sigma - diff / vega(S, K, T, r, sigma)\n",
        "\n",
        "    return sigma"
      ]
    },
    {
      "cell_type": "code",
      "execution_count": null,
      "metadata": {
        "colab": {
          "base_uri": "https://localhost:8080/"
        },
        "id": "jq73XFlDEcAu",
        "outputId": "09388503-2c0a-46a6-c25b-757c7012e418"
      },
      "outputs": [
        {
          "output_type": "stream",
          "name": "stdout",
          "text": [
            "found on 55th iteration\n",
            "difference is equal to 8.956807089397292e-05\n"
          ]
        },
        {
          "output_type": "execute_result",
          "data": {
            "text/plain": [
              "0.1214621121370967"
            ]
          },
          "metadata": {},
          "execution_count": 28
        }
      ],
      "source": [
        "implied_volatility_call_with_div(0.024952,91.72,99.9,0.143,0.002,0.093)"
      ]
    },
    {
      "cell_type": "code",
      "execution_count": null,
      "metadata": {
        "id": "NmZcecLBEcAu"
      },
      "outputs": [],
      "source": [
        "def call_price_with_displacedLogNormal(S,K,T,r,sigma,a) :\n",
        "    S=S+a\n",
        "    K=K+a\n",
        "    d1 = (np.log(S / K) + (r + (sigma**2) / 2) * T) / (sigma * np.sqrt(T))\n",
        "    d2 = d1 - sigma * np.sqrt(T)\n",
        "\n",
        "    call_price = S * norm.cdf(d1) - K * np.exp(-r * T) * norm.cdf(d2)\n",
        "\n",
        "    return call_price"
      ]
    },
    {
      "cell_type": "code",
      "execution_count": null,
      "metadata": {
        "colab": {
          "base_uri": "https://localhost:8080/"
        },
        "id": "PyX8OalTEcAv",
        "outputId": "99a2378b-9da8-4b10-95c4-c32aaa135a5b"
      },
      "outputs": [
        {
          "output_type": "execute_result",
          "data": {
            "text/plain": [
              "7.001434146166353"
            ]
          },
          "metadata": {},
          "execution_count": 30
        }
      ],
      "source": [
        "call_price_with_displacedLogNormal(93.77,95.54,0.599,0,0.1973,34.41)"
      ]
    },
    {
      "cell_type": "code",
      "execution_count": null,
      "metadata": {
        "id": "z1e1T-U1EcAv"
      },
      "outputs": [],
      "source": [
        "def binomial_option_pricing_american_call(S0, u, d, r, K, n):\n",
        "    # Probabilities computation\n",
        "    q = (1 + r - d) / (u - d)\n",
        "    p = 1 - q\n",
        "\n",
        "    # Initialisation of the options trees\n",
        "    option_tree = [[0] * (i + 1) for i in range(n + 1)]\n",
        "\n",
        "    # Calcul des prix d'options à l'expiration (n périodes)\n",
        "    for i in range(n + 1):\n",
        "        option_tree[n][i] = max(S0 * (u ** i) * (d ** (n - i)) - K, 0)\n",
        "\n",
        "    # Rétrogradation pour calculer les prix d'options aux périodes antérieures\n",
        "    for period in range(n - 1, -1, -1):\n",
        "        for i in range(period + 1):\n",
        "            S = S0 * (u ** i) * (d ** (period - i))\n",
        "            intrinsic_val = S - K\n",
        "            option_val = (p * option_tree[period + 1][i] + q * option_tree[period + 1][i + 1]) / (1 + r)\n",
        "            option_tree[period][i] = max(intrinsic_val, option_val)\n",
        "\n",
        "    return option_tree[0][0]\n",
        "\n",
        "\n",
        "def binomial_option_pricing_american_put(S0, u, d, r, K, n):\n",
        "    # Calcul des probabilités\n",
        "    q = (1 + r - d) / (u - d)\n",
        "    p = 1 - q\n",
        "\n",
        "    # Initialisation de l'arbre des options\n",
        "    option_tree = [[0] * (i + 1) for i in range(n + 1)]\n",
        "\n",
        "    # Calcul des prix d'options à l'expiration (n périodes)\n",
        "    for i in range(n + 1):\n",
        "        option_tree[n][i] = max(K - S0 * (u ** i) * (d ** (n - i)), 0)\n",
        "\n",
        "    # Rétrogradation pour calculer les prix d'options aux périodes antérieures\n",
        "    for period in range(n - 1, -1, -1):\n",
        "        for i in range(period + 1):\n",
        "            S = S0 * (u ** i) * (d ** (period - i))\n",
        "            intrinsic_val = K - S\n",
        "            option_val = (p * option_tree[period + 1][i] + q * option_tree[period + 1][i + 1]) / (1 + r)\n",
        "            option_tree[period][i] = max(intrinsic_val, option_val)\n",
        "\n",
        "    return option_tree[0][0]"
      ]
    },
    {
      "cell_type": "code",
      "execution_count": null,
      "metadata": {
        "colab": {
          "base_uri": "https://localhost:8080/"
        },
        "id": "-T033P4JEcAw",
        "outputId": "22a02c51-0976-4af7-b5ef-c76fd5cec209"
      },
      "outputs": [
        {
          "output_type": "stream",
          "name": "stdout",
          "text": [
            "Le prix du call américain est : 10018.11892714899\n"
          ]
        }
      ],
      "source": [
        "# Paramètres de l'exemple\n",
        "S0 = 100.57 # Prix actuel de l'action\n",
        "x=14.42\n",
        "y=12.61\n",
        "u = 1+x/100  # Facteur d'augmentation de l'actif\n",
        "d = 1-y/100 # Facteur de diminution de l'actif\n",
        "r = 0.0025  # Taux d'intérêt\n",
        "K = 99.38 # Prix d'exercice du call\n",
        "n = 13  # Nombre de périodes\n",
        "\n",
        "# Calcul du prix du call américain\n",
        "call_price = binomial_option_pricing(S0, u, d, r, K, n)\n",
        "print(f\"Le prix du call américain est : {call_price}\")\n"
      ]
    },
    {
      "cell_type": "code",
      "execution_count": null,
      "metadata": {
        "colab": {
          "base_uri": "https://localhost:8080/"
        },
        "id": "8FPS7qz6EcAw",
        "outputId": "5a8431b1-1440-4530-9a53-a7c28272359b"
      },
      "outputs": [
        {
          "output_type": "stream",
          "name": "stdout",
          "text": [
            "Le prix du put américain est : 13.391655942082917\n"
          ]
        }
      ],
      "source": [
        "# Paramètres de l'exemple\n",
        "S0 = 100.75  # Prix actuel de l'action\n",
        "x=16.22\n",
        "y=13.96\n",
        "u = 1+x/100  # Facteur d'augmentation de l'actif\n",
        "d = 1-y/100# Facteur de diminution de l'actif\n",
        "r = 0.0084  # Taux d'intérêt\n",
        "K = 99.86  # Prix d'exercice du put\n",
        "n = 8 # Nombre de périodes\n",
        "\n",
        "# Calcul du prix du put américain\n",
        "put_price = binomial_option_pricing_american_put(S0, u, d, r, K, n)\n",
        "print(f\"Le prix du put américain est : {put_price}\")\n"
      ]
    },
    {
      "cell_type": "code",
      "execution_count": null,
      "metadata": {
        "colab": {
          "base_uri": "https://localhost:8080/"
        },
        "id": "p-zow6tMEcAw",
        "outputId": "bd9bf96c-eac0-43a4-a890-d5a3aede4812"
      },
      "outputs": [
        {
          "output_type": "execute_result",
          "data": {
            "text/plain": [
              "1.1219802147843367"
            ]
          },
          "metadata": {},
          "execution_count": 34
        }
      ],
      "source": [
        "#calcul du nombre d'options d'actifs C a posseder pour delta gamma hedging\n",
        "\n",
        "gamma_S=black_scholes_call_gamma(99.17,102.7,0.599,0.015,0.1415)\n",
        "gamma_C=black_scholes_call_gamma(99.17,100.77,0.779,0.015,0.1415)\n",
        "\n",
        "gamma_S/gamma_C"
      ]
    },
    {
      "cell_type": "code",
      "execution_count": null,
      "metadata": {
        "colab": {
          "base_uri": "https://localhost:8080/"
        },
        "id": "aj-jR3cPEcAx",
        "outputId": "f057d61d-c11e-45ab-9d23-220a526fd2f7"
      },
      "outputs": [
        {
          "output_type": "stream",
          "name": "stdout",
          "text": [
            "La norme du vecteur sigma1 est : 0.16\n",
            "La norme du vecteur sigma2 est : 0.225\n",
            "Le produit scalaire entre les vecteurs sigma1 et sigma2 est : 0.030120152808436797\n",
            "0.8366709113454665\n"
          ]
        }
      ],
      "source": [
        "import numpy as np\n",
        "\n",
        "# Définition des vecteurs\n",
        "sigma1 = np.array([ 0.15962142713307634, -0.011])\n",
        "sigma2 = np.array([0.19627786426390523, 0.11])\n",
        "\n",
        "# Calcul du produit scalaire\n",
        "dot_product = np.dot(sigma1, sigma2)\n",
        "# Calcul de la norme de chaque vecteur\n",
        "norm_sigma1 = np.linalg.norm(sigma1)\n",
        "norm_sigma2 = np.linalg.norm(sigma2)\n",
        "\n",
        "# Affichage des résultats\n",
        "print(f\"La norme du vecteur sigma1 est : {norm_sigma1}\")\n",
        "print(f\"La norme du vecteur sigma2 est : {norm_sigma2}\")\n",
        "\n",
        "# Affichage du résultat\n",
        "print(f\"Le produit scalaire entre les vecteurs sigma1 et sigma2 est : {dot_product}\")\n",
        "\n",
        "result = dot_product / (norm_sigma1*norm_sigma2)\n",
        "print(result)\n"
      ]
    },
    {
      "cell_type": "code",
      "execution_count": null,
      "metadata": {
        "colab": {
          "base_uri": "https://localhost:8080/"
        },
        "id": "N2Wpw8t2EcAx",
        "outputId": "3ae43d40-add1-48a2-eb38-3dc5d008c2ba"
      },
      "outputs": [
        {
          "output_type": "stream",
          "name": "stdout",
          "text": [
            "La valeur de a est : 0.19627786426390523\n"
          ]
        }
      ],
      "source": [
        "import math\n",
        "\n",
        "# Valeur connue de la norme\n",
        "norm_known = (22.5)/100\n",
        "# Deuxième composante du vecteur\n",
        "component2 = 0.11\n",
        "# Calcul de la première composante du vecteur\n",
        "a = math.sqrt(norm_known ** 2 - component2 ** 2)\n",
        "\n",
        "print(f\"La valeur de a est : {a}\")"
      ]
    },
    {
      "cell_type": "code",
      "execution_count": null,
      "metadata": {
        "id": "bPQWvcfxEcBA"
      },
      "outputs": [],
      "source": [
        "#changement de numéraire\n",
        "\n",
        "def compute_vol_spot(vol_euro,vol_eurodollar,correlation) :\n",
        "    return np.sqrt( vol_euro**2 + 2*correlation*vol_euro*vol_eurodollar + vol_eurodollar**2)"
      ]
    },
    {
      "cell_type": "code",
      "execution_count": null,
      "metadata": {
        "colab": {
          "base_uri": "https://localhost:8080/"
        },
        "id": "dCQBErexEcBB",
        "outputId": "2a56489a-6386-43a3-8c4f-14a5af8427b0"
      },
      "outputs": [
        {
          "output_type": "execute_result",
          "data": {
            "text/plain": [
              "0.14448740983213723"
            ]
          },
          "metadata": {},
          "execution_count": 38
        }
      ],
      "source": [
        "compute_vol_spot(19.27/100,10.88/100,-0.67)"
      ]
    },
    {
      "cell_type": "code",
      "execution_count": null,
      "metadata": {
        "colab": {
          "base_uri": "https://localhost:8080/"
        },
        "id": "ZBrsGIHGEcBC",
        "outputId": "778e3e6c-d5e5-4da5-b2e8-740f3c41e439"
      },
      "outputs": [
        {
          "output_type": "stream",
          "name": "stdout",
          "text": [
            "2.568102668855181\n"
          ]
        }
      ],
      "source": [
        "# delta gamma hedging\n",
        "\n",
        "delta_ = 2 * black_scholes_call_delta_S_with_div(97.51,95.06,0.768,0.049,0.047,0.1576)\n",
        "\n",
        "hedge_delta_ = black_scholes_call_delta_S_with_div(98.68,101.01,0.678,0.049,0.07,0.2677)\n",
        "print(delta_/hedge_delta_)"
      ]
    },
    {
      "cell_type": "markdown",
      "source": [
        "We consider a Call option, in the Black-Scholes model with the parameters S_0=104.440000, T=0.756000, K=107.480000, r=0.002000, q=0.046000, \\sigma=0.178100. We would like to hedge the option with the Future on S with maturity T'=0.375000. How many Futures should we buy now at t=0? (expected accuracy = 0.001)."
      ],
      "metadata": {
        "id": "uoCAWxIz_6xH"
      }
    },
    {
      "cell_type": "code",
      "execution_count": null,
      "metadata": {
        "colab": {
          "base_uri": "https://localhost:8080/"
        },
        "id": "xXGn5a4zEcBC",
        "outputId": "77e10523-367c-4ed1-e5d1-d284d7de47cc"
      },
      "outputs": [
        {
          "output_type": "stream",
          "name": "stdout",
          "text": [
            "0.36671136793218434\n"
          ]
        }
      ],
      "source": [
        "#hedge a call with future OK\n",
        "S=104.440000\n",
        "T=0.756000\n",
        "T_prime=0.375000\n",
        "t=0\n",
        "K=107.480000\n",
        "r=0.002000\n",
        "q=0.046000\n",
        "sigma=0.178100\n",
        "\n",
        "delta_S = black_scholes_call_delta_S_with_div(S,K,T,r,q,sigma)\n",
        "print(np.exp(-(r-q)*(T_prime-t))*delta_S)"
      ]
    },
    {
      "cell_type": "code",
      "source": [
        "import numpy as np\n",
        "from scipy.stats import norm\n",
        "\n",
        "# Given parameters\n",
        "S0 = 9.700000\n",
        "T = 0.776000\n",
        "T_prime = 0.357000\n",
        "n = 9  # Number of assets in the portfolio\n",
        "K = 10.190000\n",
        "r = 0.003000\n",
        "q = 0.072000\n",
        "sigma = 0.187100\n",
        "\n",
        "# Calculate the Black-Scholes delta for one call option\n",
        "delta_one_call = black_scholes_call_delta_S_with_div(S0, K, T, r, q, sigma)\n",
        "\n",
        "# Calculate the total delta for the entire position (n call options)\n",
        "total_delta = n * delta_one_call\n",
        "\n",
        "# Calculate the number of futures contracts needed to hedge\n",
        "number_of_futures = -total_delta * np.exp(-(r - q) * (T_prime - 0))\n",
        "\n",
        "print(f\"The number of futures contracts to hedge is: {number_of_futures:.6f}\")"
      ],
      "metadata": {
        "colab": {
          "base_uri": "https://localhost:8080/"
        },
        "id": "5VkLUko0q55s",
        "outputId": "3497779f-ce7b-4f73-fd86-3d1e5e068f21"
      },
      "execution_count": null,
      "outputs": [
        {
          "output_type": "stream",
          "name": "stdout",
          "text": [
            "The number of futures contracts to hedge is: -2.565448\n"
          ]
        }
      ]
    },
    {
      "cell_type": "markdown",
      "source": [
        "Compute the price at t=0 of a contract with payoff S_T(S_T-K)_+ at maturity T, in the Black-Scholes model, with the parameters S_0=9.520000, T=0.841000, K=10.750000, r=0, q=0, \\sigma=0.288400 (expected accuracy = 0.01)."
      ],
      "metadata": {
        "id": "Swm6eVikF8mO"
      }
    },
    {
      "cell_type": "code",
      "execution_count": null,
      "metadata": {
        "colab": {
          "base_uri": "https://localhost:8080/"
        },
        "id": "aaZ4zrZcEcBD",
        "outputId": "2ec10c24-dcc2-4f36-b1ac-a8e659ad6951"
      },
      "outputs": [
        {
          "output_type": "stream",
          "name": "stdout",
          "text": [
            "Price of contract with payoff S_T(S_T - K)+ :  3.7761877119668066\n"
          ]
        }
      ],
      "source": [
        "#price of a call St*(St-K)\n",
        "\n",
        "import numpy as np\n",
        "import math\n",
        "from scipy.stats import norm\n",
        "S0=9.710000\n",
        "T=0.576000\n",
        "K=10.400000\n",
        "r=0\n",
        "q=0\n",
        "sigma=0.194300\n",
        "\n",
        "# S0=9.520000\n",
        "# T=0.841000\n",
        "# K=10.750000\n",
        "# r=0\n",
        "# q=0\n",
        "# sigma=0.288400\n",
        "\n",
        "print(\"Price of contract with payoff S_T(S_T - K)+ : \", S0*black_scholes_call_with_div(T=T, S=np.exp(sigma**2*T)*S0, K=K, sigma=sigma, r=r, q=q))\n"
      ]
    },
    {
      "cell_type": "code",
      "execution_count": null,
      "metadata": {
        "id": "vIjNn03OEcBD"
      },
      "outputs": [],
      "source": [
        "#delta hedge with correlated assets - EXO 1\n",
        "s1 = 96.91\n",
        "s2 = 100.77\n",
        "T = 0.162\n",
        "K1 = 101.4\n",
        "K2 = 90.24\n",
        "r = 0.092\n",
        "sigma1 = 0.2573\n",
        "sigma2 = 0.1027\n",
        "rho = 0.84\n",
        "q1 =  0.0\n",
        "q2 = 0.0\n",
        "\n",
        "vol1 = sigma1 * np.array([1, 0]) # vecteur de vol de S1\n",
        "vol2 = sigma2 * np.array([rho, np.sqrt(1-rho**2)]) # vecteur de vol de S2\n",
        "\n",
        "\n",
        "\n",
        "a1 = -black_scholes_call_delta_S_with_div(T=T, S=s1, K=K1, sigma=np.linalg.norm(vol1), r=r, q=q1)/black_scholes_call_delta_S_with_div(T=T, S=s1, K=K2, sigma=np.linalg.norm(vol1), r=r, q=q1)\n",
        "a2 = -2*black_scholes_call_delta_S_with_div(T=T, S=s2, K=K1, sigma=np.linalg.norm(vol2), r=r, q=q2)/black_scholes_call_delta_S_with_div(T=T, S=s2, K=K2, sigma=np.linalg.norm(vol2), r=r, q=q2)\n",
        "\n",
        "a2"
      ]
    },
    {
      "cell_type": "markdown",
      "source": [
        "We consider a portfolio made of option written on two assets:\n",
        "* long 105.937870 Call (T,K1)-option on S^{(1)},\n",
        "* short 47.529676 Call (T,K2)-option on S^{(2)},\n",
        "* long n_E Exchange options with strike (S^{(2)}_T-K S^{(1)}_T)_+.\n",
        "What is the value of the strike K (between 0.95 and 1.05), so that for some n_E, the portfolio is globally Delta-hedged at t=0 with respect to S^{(1)} and S^{(2)}?\n",
        "The asset distribution are described as Black-Scholes model, with correlation rho, without dividend. The parameters are S^{(1)}=99.490000, S^{(2)}=99.600000, T=0.714000, K1=108.430000, K2=94.600000, r=0.005000, \\sigma^{(1)}=0.135000, \\sigma^{(2)}=0.217300, rho=0.220000 (expected accuracy = 0.01).\n",
        "\n",
        "Answer 1 Question 4\n"
      ],
      "metadata": {
        "id": "CKMUG-VRBVZV"
      }
    },
    {
      "cell_type": "code",
      "execution_count": null,
      "metadata": {
        "id": "TnEDD6wWEcBD"
      },
      "outputs": [],
      "source": [
        "#delta hedge with correlated assets  - EXO 2\n",
        "S1=99.490000\n",
        "S2=99.600000\n",
        "T=0.714000\n",
        "K1=108.430000\n",
        "K2=94.600000\n",
        "r=0.005000\n",
        "sigma1=0.135000\n",
        "sigma2=0.217300\n",
        "rho=0.220000\n",
        "q1 =  0.0\n",
        "q2 = 0.0\n",
        "a1 = 105.937870  # quantity of S1 options\n",
        "a2 = -47.529676 # quantity of S2 options\n",
        "\n",
        "vol1 = sigma1 * np.array([1, 0])\n",
        "vol2 = sigma2 * np.array([rho, np.sqrt(1-rho**2)])\n",
        "\n",
        "# quantities of S1 and S2 in the options\n",
        "delt1 = a1 * black_scholes_call_delta_S_with_div(T=T, S=S1, K=K1, sigma=np.linalg.norm(vol1), r=r, q=q1)\n",
        "delt2 = a2 * black_scholes_call_delta_S_with_div(T=T, S=S2, K=K2, sigma=np.linalg.norm(vol2), r=r, q=q2)\n",
        "\n",
        "# quantities of S1 and S2 in the Exchange options for different K\n",
        "for K in np.arange(0.95, 1.05, step=0.01):\n",
        "    s0, sigm = S2/S1, np.linalg.norm(vol2-vol1)\n",
        "    d1 = np.log(s0*np.exp(r*T)/K)/(sigm*np.sqrt(T)) + 0.5*sigm*np.sqrt(T)\n",
        "    d2 = d1 - sigm*np.sqrt(T)\n",
        "    #quantity of S2 in on Exchange option\n",
        "    S2_qu = norm.cdf(d1)\n",
        "    #quantity of S1 in on Exchange option\n",
        "    S1_qu = -np.exp(-r*T)*K*norm.cdf(d2)\n",
        "    # Verification if both quantities of Exchange options needed are equal\n",
        "    nE_1 = -delt1 / S1_qu\n",
        "    nE_2 = -delt2 / S2_qu\n",
        "    print(f\"for K = {K} : \", nE_1 - nE_2)"
      ]
    },
    {
      "cell_type": "markdown",
      "source": [
        "We consider a portfolio made of option written on two assets:\n",
        "* long 64.937624 Call (T,K1)-option on S^{(1)},\n",
        "* short 626.337137 Call (T,K2)-option on S^{(2)},\n",
        "* long n_E Exchange options with strike (S^{(2)}_T-K S^{(1)}_T)_+.\n",
        "What is the value of the strike K (between 0.95 and 1.05), so that for some n_E, the portfolio is globally Delta-hedged at t=0 with respect to S^{(1)} and S^{(2)}?\n",
        "The asset distribution are described as Black-Scholes model, with correlation rho, without dividend. The parameters are S^{(1)}=98.610000, S^{(2)}=91.340000, T=0.305000, K1=100.040000, K2=107.380000, r=0.093000, \\sigma^{(1)}=0.294600, \\sigma^{(2)}=0.158500, rho=0.660000"
      ],
      "metadata": {
        "id": "S7lkIu2SBzgM"
      }
    },
    {
      "cell_type": "code",
      "source": [
        "#delta hedge with correlated assets  - EXO 2\n",
        "S1=98.610000\n",
        "S2=91.34000\n",
        "T=0.305000\n",
        "K1=100.040000\n",
        "K2=107.380000\n",
        "r=0.093000\n",
        "sigma1=0.294600\n",
        "sigma2=0.158500\n",
        "rho=0.660000\n",
        "q1 =  0.0\n",
        "q2 = 0.0\n",
        "a1 = 64.937624  # quantity of S1 options\n",
        "a2 = -626.337137 # quantity of S2 options\n",
        "\n",
        "vol1 = sigma1 * np.array([1, 0])\n",
        "vol2 = sigma2 * np.array([rho, np.sqrt(1-rho**2)])\n",
        "\n",
        "# quantities of S1 and S2 in the options\n",
        "delt1 = a1 * black_scholes_call_delta_S_with_div(T=T, S=S1, K=K1, sigma=np.linalg.norm(vol1), r=r, q=q1)\n",
        "delt2 = a2 * black_scholes_call_delta_S_with_div(T=T, S=S2, K=K2, sigma=np.linalg.norm(vol2), r=r, q=q2)\n",
        "\n",
        "# quantities of S1 and S2 in the Exchange options for different K\n",
        "for K in np.arange(0.95, 1.05, step=0.01):\n",
        "    s0, sigm = S2/S1, np.linalg.norm(vol2-vol1)\n",
        "    d1 = np.log(s0*np.exp(r*T)/K)/(sigm*np.sqrt(T)) + 0.5*sigm*np.sqrt(T)\n",
        "    d2 = d1 - sigm*np.sqrt(T)\n",
        "    #quantity of S2 in on Exchange option\n",
        "    S2_qu = norm.cdf(d1)\n",
        "    #quantity of S1 in on Exchange option\n",
        "    S1_qu = -np.exp(-r*T)*K*norm.cdf(d2)\n",
        "    # Verification if both quantities of Exchange options needed are equal\n",
        "    nE_1 = -delt1 / S1_qu\n",
        "    nE_2 = -delt2 / S2_qu\n",
        "    print(f\"for K = {K} : \", nE_1 - nE_2)"
      ],
      "metadata": {
        "id": "RzTyesP6Bw92"
      },
      "execution_count": null,
      "outputs": []
    },
    {
      "cell_type": "markdown",
      "source": [
        "We consider a portfolio made of option written on two assets:\n",
        "* long 8.014407 Call (T,K1)-option on S^{(1)},\n",
        "* short 45.099416 Call (T,K2)-option on S^{(2)},\n",
        "* long n_E Exchange options with strike (S^{(2)}_T-K S^{(1)}_T)_+.\n",
        "What is the value of the strike K (between 0.95 and 1.05), so that for some n_E, the portfolio is globally Delta-hedged at t=0 with respect to S^{(1)} and S^{(2)}?\n",
        "The asset distribution are described as Black-Scholes model, with correlation rho, without dividend. The parameters are S^{(1)}=105.580000, S^{(2)}=98.090000, T=0.238000, K1=95.100000, K2=107.540000, r=0.099000, \\sigma^{(1)}=0.257700, \\sigma^{(2)}=0.148100, rho=0.160000 (e"
      ],
      "metadata": {
        "id": "kPUOjpTHCLtI"
      }
    },
    {
      "cell_type": "code",
      "source": [
        "#delta hedge with correlated assets  - EXO 2\n",
        "S1=105.580000\n",
        "S2=98.090000\n",
        "T=0.238000\n",
        "K1=95.100000\n",
        "K2=107.540000\n",
        "r=0.099000\n",
        "sigma1=0.257700\n",
        "sigma2=0.148100\n",
        "rho=0.160000\n",
        "q1 =  0.0\n",
        "q2 = 0.0\n",
        "a1 = 8.014407  # quantity of S1 options\n",
        "a2 = -45.099416 # quantity of S2 options\n",
        "\n",
        "vol1 = sigma1 * np.array([1, 0])\n",
        "vol2 = sigma2 * np.array([rho, np.sqrt(1-rho**2)])\n",
        "\n",
        "# quantities of S1 and S2 in the options\n",
        "delt1 = a1 * black_scholes_call_delta_S_with_div(T=T, S=S1, K=K1, sigma=np.linalg.norm(vol1), r=r, q=q1)\n",
        "delt2 = a2 * black_scholes_call_delta_S_with_div(T=T, S=S2, K=K2, sigma=np.linalg.norm(vol2), r=r, q=q2)\n",
        "\n",
        "# quantities of S1 and S2 in the Exchange options for different K\n",
        "for K in np.arange(0.95, 1.05, step=0.01):\n",
        "    s0, sigm = S2/S1, np.linalg.norm(vol2-vol1)\n",
        "    d1 = np.log(s0*np.exp(r*T)/K)/(sigm*np.sqrt(T)) + 0.5*sigm*np.sqrt(T)\n",
        "    d2 = d1 - sigm*np.sqrt(T)\n",
        "    #quantity of S2 in on Exchange option\n",
        "    S2_qu = norm.cdf(d1)\n",
        "    #quantity of S1 in on Exchange option\n",
        "    S1_qu = -np.exp(-r*T)*K*norm.cdf(d2)\n",
        "    # Verification if both quantities of Exchange options needed are equal\n",
        "    nE_1 = -delt1 / S1_qu\n",
        "    nE_2 = -delt2 / S2_qu\n",
        "    print(f\"for K = {K} : \", nE_1 - nE_2)"
      ],
      "metadata": {
        "id": "mP5DJoQKCNOv"
      },
      "execution_count": null,
      "outputs": []
    },
    {
      "cell_type": "markdown",
      "source": [
        "We consider a portfolio made of option written on two assets:\n",
        "* long 41.957964 Call (T,K1)-option on S^{(1)},\n",
        "* short 41.642271 Call (T,K2)-option on S^{(2)},\n",
        "* long n_E Exchange options with strike (S^{(2)}_T-K S^{(1)}_T)_+.\n",
        "What is the value of the strike K (between 0.95 and 1.05), so that for some n_E, the portfolio is globally Delta-hedged at t=0 with respect to S^{(1)} and S^{(2)}?\n",
        "The asset distribution are described as Black-Scholes model, with correlation rho, without dividend. The parameters are S^{(1)}=93.090000, S^{(2)}=99.630000, T=0.627000, K1=95.510000, K2=99.210000, r=0.019000, \\sigma^{(1)}=0.255400, \\sigma^{(2)}=0.117200, rho=-0.040000 (expected accuracy = 0.01).\n",
        "\n",
        "Answer 1 Question 4\n"
      ],
      "metadata": {
        "id": "GqqTFdnbCzA2"
      }
    },
    {
      "cell_type": "code",
      "source": [
        "#delta hedge with correlated assets  - EXO 2\n",
        "S1=93.090000\n",
        "S2=99.630000\n",
        "T=0.627000\n",
        "K1=95.510000\n",
        "K2=99.21000\n",
        "r=0.019000\n",
        "sigma1=0.255400\n",
        "sigma2=0.117200\n",
        "rho=-0.040000\n",
        "q1 =  0.0\n",
        "q2 = 0.0\n",
        "a1 = 41.957964  # quantity of S1 options\n",
        "a2 = -41.642271 # quantity of S2 options\n",
        "\n",
        "vol1 = sigma1 * np.array([1, 0])\n",
        "vol2 = sigma2 * np.array([rho, np.sqrt(1-rho**2)])\n",
        "\n",
        "# quantities of S1 and S2 in the options\n",
        "delt1 = a1 * black_scholes_call_delta_S_with_div(T=T, S=S1, K=K1, sigma=np.linalg.norm(vol1), r=r, q=q1)\n",
        "delt2 = a2 * black_scholes_call_delta_S_with_div(T=T, S=S2, K=K2, sigma=np.linalg.norm(vol2), r=r, q=q2)\n",
        "\n",
        "# quantities of S1 and S2 in the Exchange options for different K\n",
        "for K in np.arange(0.95, 1.05, step=0.001):\n",
        "    s0, sigm = S2/S1, np.linalg.norm(vol2-vol1)\n",
        "    d1 = np.log(s0*np.exp(r*T)/K)/(sigm*np.sqrt(T)) + 0.5*sigm*np.sqrt(T)\n",
        "    d2 = d1 - sigm*np.sqrt(T)\n",
        "    #quantity of S2 in on Exchange option\n",
        "    S2_qu = norm.cdf(d1)\n",
        "    #quantity of S1 in on Exchange option\n",
        "    S1_qu = -np.exp(-r*T)*K*norm.cdf(d2)\n",
        "    # Verification if both quantities of Exchange options needed are equal\n",
        "    nE_1 = -delt1 / S1_qu\n",
        "    nE_2 = -delt2 / S2_qu\n",
        "    print(f\"for K = {K} : \", nE_1 - nE_2)"
      ],
      "metadata": {
        "id": "nXP6HjaZC0f3"
      },
      "execution_count": null,
      "outputs": []
    },
    {
      "cell_type": "markdown",
      "source": [
        "We consider a call option of the Dollar-Euro exchange rate X with strike K. Compute the price at t=0 of this option, in the Garman-Kohlhagen model, with the parameters X_0=0.969300, T=0.842000, K=1.035300, r_{Euro}=0.093300, r_{Dollar}=0.026700, \\sigma=0.063600 (expected accuracy = 0.0001)."
      ],
      "metadata": {
        "id": "icFXS05CJFPx"
      }
    },
    {
      "cell_type": "code",
      "execution_count": null,
      "metadata": {
        "colab": {
          "base_uri": "https://localhost:8080/"
        },
        "id": "bWn9h2yqEcBE",
        "outputId": "408127b8-c279-4116-e88c-237a0efb4b39"
      },
      "outputs": [
        {
          "output_type": "execute_result",
          "data": {
            "text/plain": [
              "0.024464991214389054"
            ]
          },
          "metadata": {},
          "execution_count": 45
        }
      ],
      "source": [
        "# Garman Kolhagen OK\n",
        "\n",
        "from math import exp, sqrt\n",
        "from scipy.stats import norm\n",
        "\n",
        "X_0=0.974700\n",
        "T=0.023000\n",
        "K=0.950500\n",
        "r_Euro=0.038300\n",
        "r_Dollar=0.036500\n",
        "sigma=0.096600\n",
        "\n",
        "# X_0=0.969300\n",
        "# T=0.842000\n",
        "# K=1.035300\n",
        "# r_Euro=0.093300\n",
        "# r_Dollar=0.026700\n",
        "# sigma=0.063600\n",
        "\n",
        "def call_price_dollar_euro_exchange(S, X, r_d, r_f, sigma, T):\n",
        "    d1 = (np.log(S / X) + (r_d - r_f + 0.5 * sigma ** 2) * T) / (sigma * sqrt(T))\n",
        "    d2 = d1 - sigma * sqrt(T)\n",
        "    call_price = S * exp(-r_f * T) * norm.cdf(d1) - X * exp(-r_d * T) * norm.cdf(d2)\n",
        "    return call_price\n",
        "call_price_dollar_euro_exchange(X_0,K,r_Euro,r_Dollar,sigma,T)"
      ]
    },
    {
      "cell_type": "markdown",
      "source": [
        "In a Uniswap v2 liquidity pool, there are x tokens X and y tokens Y. A liquidity provider (LP) deposits \\Delta x tokens X and \\Delta y tokens Y in the pool. What is the percentage of the supplied liquidity in the pool owned by this LP? The parameters are x=787.430000, y=5865.210000, \\Delta x=679.350000 (expected accuracy = 0.0001). (12.34% should be written 0.1234). Answer 1 Question 9"
      ],
      "metadata": {
        "id": "jBFsFtCwJwkm"
      }
    },
    {
      "cell_type": "code",
      "execution_count": null,
      "metadata": {
        "colab": {
          "base_uri": "https://localhost:8080/"
        },
        "id": "25ztgNg7EcBF",
        "outputId": "8d32dc70-a10b-41b9-b2de-243cb5fd5599"
      },
      "outputs": [
        {
          "output_type": "stream",
          "name": "stdout",
          "text": [
            "0.41153011470928097\n"
          ]
        }
      ],
      "source": [
        "#uniswap V2 ok\n",
        "\n",
        "# owns liquidty\n",
        "x=417.590000\n",
        "y=3663.900000\n",
        "d_x=292.030000\n",
        "# x=787.430000\n",
        "# y=5865.210000\n",
        "# d_x=679.350000\n",
        "p=y/x\n",
        "d_y=p*d_x\n",
        "print((sqrt(p)*d_x) / sqrt((x+d_x)*(y+d_y)))"
      ]
    },
    {
      "cell_type": "markdown",
      "source": [
        "In a Uniswap v2 liquidity pool, the liquidity and price are given by L=439.876003, p=7.543144. What is the number of tokens X in the pool? (expected accuracy = 0.01)."
      ],
      "metadata": {
        "id": "Lfkd-nu_A21x"
      }
    },
    {
      "cell_type": "code",
      "source": [
        "#uniswap V2 ok\n",
        "\n",
        "# number of tokens x\n",
        "L=439.876003\n",
        "p=7.543144\n",
        "print(L/sqrt(p))"
      ],
      "metadata": {
        "id": "jRakU5g-A4dW"
      },
      "execution_count": null,
      "outputs": []
    },
    {
      "cell_type": "markdown",
      "source": [
        "In a Uniswap v2 liquidity pool, the liquidity and price are given by L=2114.748421, p=6.246593. What is the number of tokens Y in the pool? (expected accuracy = 0.01). Answer 1 Question 10"
      ],
      "metadata": {
        "id": "x9U9_f2TJ8iR"
      }
    },
    {
      "cell_type": "code",
      "execution_count": null,
      "metadata": {
        "colab": {
          "base_uri": "https://localhost:8080/"
        },
        "id": "v--QRA6FEcBF",
        "outputId": "c6e3cc4e-20d0-4752-cada-1a7abc6d60f5"
      },
      "outputs": [
        {
          "output_type": "stream",
          "name": "stdout",
          "text": [
            "3749.4900062708266\n"
          ]
        }
      ],
      "source": [
        "#uniswap V2 ok\n",
        "\n",
        "# number of tokens x\n",
        "L=1496.845097\n",
        "p=6.274667\n",
        "# L=2114.748421\n",
        "# p=6.246593\n",
        "print(L*sqrt(p))"
      ]
    },
    {
      "cell_type": "markdown",
      "source": [
        "In a Uniswap v2 liquidity pool with swap fees \\phi=0.003, there are x tokens X and y tokens Y. A trader transfers \\Delta x tokens X into the pool and receive tokens Y in exchange. What is the liquidity in the pool after the trade? The parameters are x=898.110000, y=6209.290000, \\Delta x=207.600000 (expected accuracy = 0.01)."
      ],
      "metadata": {
        "id": "G3eRwcfPCh7l"
      }
    },
    {
      "cell_type": "code",
      "source": [
        "d=-1\n",
        "fees = 0.003\n",
        "k_d= ((2-fees) *(1-d))/2 -1\n",
        "k_moinsd = ((2-fees)*(1+d)) /2 - 1\n",
        "x=405.820000\n",
        "y=3797.610000\n",
        "delta_x=67.150000\n",
        "# x=898.110000\n",
        "# y=6209.290000\n",
        "# delta_x=207.600000\n",
        "delta_y= - ((k_d*y)/(k_moinsd*(x+k_d*delta_x)))*delta_x\n",
        "L= sqrt((x-d*delta_x)*(y+d*delta_y))\n",
        "print(L)"
      ],
      "metadata": {
        "colab": {
          "base_uri": "https://localhost:8080/"
        },
        "id": "WYW1eBuCClEX",
        "outputId": "d10c26a2-e531-4a69-f777-9d662d9bfac9"
      },
      "execution_count": null,
      "outputs": [
        {
          "output_type": "stream",
          "name": "stdout",
          "text": [
            "1241.6935142676841\n"
          ]
        }
      ]
    },
    {
      "cell_type": "markdown",
      "source": [
        "In a Uniswap v2 liquidity pool with swap fees \\phi=0.003, there are x tokens X and y tokens Y. A trader liquidity transfers \\Delta y tokens Y into the pool and receive tokens X in exchange. What is the liquidity in the pool after the trade? The parameters are x=976.620000, y=3911.980000, \\Delta y=1696.970000 (expected accuracy = 0.01). Answer 1 Question 11"
      ],
      "metadata": {
        "id": "L2rvLsTbKEaO"
      }
    },
    {
      "cell_type": "code",
      "execution_count": null,
      "metadata": {
        "id": "t4t2ebCeEcBG"
      },
      "outputs": [],
      "source": [
        "d=1\n",
        "fees = 0.003\n",
        "k_d= ((2-fees) *(1-d))/2 -1\n",
        "k_moinsd = ((2-fees)*(1+d)) /2 - 1\n",
        "x=976.620000\n",
        "y=3911.980000\n",
        "delta_y=1696.970000\n",
        "delta_x= - ((k_moinsd*x)/(k_d*(y+k_moinsd*delta_y)))*delta_y\n",
        "L= sqrt((x-d*delta_x)*(y+d*delta_y))\n",
        "print(L)"
      ]
    },
    {
      "cell_type": "markdown",
      "source": [
        "In a Uniswap v3 liquidity pool, the liquidity L on the price range [p_l,p_u] is given by L=84726.000000, p_l=93.840000, p_u=99.880000. The pool price is p=96.660000. What is the number of tokens X in the price range [p_l,p_u]? (expected accuracy = 0.01). Answer 1 Question 12"
      ],
      "metadata": {
        "id": "xkv3rU6FKT9F"
      }
    },
    {
      "cell_type": "code",
      "execution_count": null,
      "metadata": {
        "colab": {
          "base_uri": "https://localhost:8080/"
        },
        "id": "89l3YXp9EcBG",
        "outputId": "88498285-24fb-488b-b681-ae947117b07d"
      },
      "outputs": [
        {
          "output_type": "stream",
          "name": "stdout",
          "text": [
            "84.13293610355856\n"
          ]
        }
      ],
      "source": [
        "#UNISWAP V3\n",
        "L=39011.000000\n",
        "p_l=30.050000\n",
        "p_u=31.530000\n",
        "p=30.780000\n",
        "# L=84726.000000\n",
        "# p_l=93.840000\n",
        "# p_u=99.880000\n",
        "# p=96.660000\n",
        "print(L*(sqrt(p_u)-sqrt(p))/(sqrt(p)*sqrt(p_u)))"
      ]
    },
    {
      "cell_type": "markdown",
      "source": [
        "In a Uniswap v3 liquidity pool, the liquidity L on the price range [p_l,p_u] is given by L=12756.000000, p_l=62.120000, p_u=64.830000. The pool price is p=63.560000. What is the number of tokens Y in the price range [p_l,p_u]? (expected accuracy = 0.01). Answer 1 Question 12"
      ],
      "metadata": {
        "id": "B7Iiuzf3JcZ_"
      }
    },
    {
      "cell_type": "code",
      "source": [
        "L=12756.000000\n",
        "p_l=62.120000\n",
        "p_u=64.830000\n",
        "p=63.560000\n",
        "print(L*(sqrt(p) - sqrt(p_l)))"
      ],
      "metadata": {
        "id": "bsfkGBwmJd2D"
      },
      "execution_count": null,
      "outputs": []
    },
    {
      "cell_type": "markdown",
      "source": [
        "In a Uniswap v3 liquidity pool, the liquidity L on the price range [p_l,p_u] is given by L=62890.000000, p_l=33.220000, p_u=35.740000. The pool price is p=34.350000. A liquidity provider deposits \\Delta_x tokens X and \\Delta_y tokens Y. If \\Delta_x=20.720000, what is the increase of liquidity \\Delta L in the pool? (expected accuracy = 0.01). Answer 1 Question 13"
      ],
      "metadata": {
        "id": "WRqJ-PH6D60p"
      }
    },
    {
      "cell_type": "code",
      "source": [
        "L=62890.000000\n",
        "p_l=33.220000\n",
        "p_u=35.740000\n",
        "p=34.350000\n",
        "delta_x=20.720000\n",
        "\n",
        "rapport = (sqrt(p_u)-sqrt(p))/(sqrt(p)*sqrt(p_u))\n",
        "x = L*rapport\n",
        "y = L*(sqrt(p) - sqrt(p_l))\n",
        "\n",
        "(x + delta_x)/rapport - L"
      ],
      "metadata": {
        "id": "XET-wIMOD88c"
      },
      "execution_count": null,
      "outputs": []
    },
    {
      "cell_type": "markdown",
      "source": [
        "In a Uniswap v3 liquidity pool, the liquidity L on the price range [p_l,p_u] is given by L=40840.000000, p_l=82.530000, p_u=86.240000. The pool price is p=84.420000. A liquidity provider deposits \\Delta_x tokens X and \\Delta_y tokens Y. If \\Delta_y=444.390000, what is the increase of liquidity \\Delta L in the pool? (expected accuracy = 0.01)."
      ],
      "metadata": {
        "id": "ctWljAjqKm4n"
      }
    },
    {
      "cell_type": "code",
      "execution_count": null,
      "metadata": {
        "colab": {
          "base_uri": "https://localhost:8080/"
        },
        "id": "0rFPos-PEcBH",
        "outputId": "95edd1bb-b4dc-40d1-cae9-03db096d346d"
      },
      "outputs": [
        {
          "output_type": "execute_result",
          "data": {
            "text/plain": [
              "4377.804716803948"
            ]
          },
          "metadata": {},
          "execution_count": 57
        }
      ],
      "source": [
        "L=98156.000000\n",
        "p_l=47.270000\n",
        "p_u=49.900000\n",
        "p=48.230000\n",
        "delta_y=304.100000\n",
        "# L=40840.000000\n",
        "# p_l=82.530000\n",
        "# p_u=86.240000\n",
        "# p=84.420000\n",
        "# delta_y=444.390000\n",
        "\n",
        "\n",
        "rapport = (sqrt(p_u)-sqrt(p))/(sqrt(p)*sqrt(p_u))\n",
        "second_rapport = (sqrt(p) - sqrt(p_l))\n",
        "x = L*rapport\n",
        "y = L*second_rapport\n",
        "\n",
        "(y + delta_y)/second_rapport - L"
      ]
    },
    {
      "cell_type": "code",
      "source": [
        "import numpy as np\n",
        "from scipy.stats import norm\n",
        "\n",
        "def calculate_exchange_option_price(S1, S2, T, K, r, sigma1, sigma2, rho, q1, q2):\n",
        "    d1 = (np.log(S2 / S1) + (r - q1 + 0.5 * (sigma1**2 + sigma2**2 - 2 * rho * sigma1 * sigma2)) * T) / \\\n",
        "         (np.sqrt(T * (sigma1**2 + sigma2**2 - 2 * rho * sigma1 * sigma2)))\n",
        "\n",
        "    d2 = d1 - np.sqrt(T * (sigma1**2 + sigma2**2 - 2 * rho * sigma1 * sigma2))\n",
        "\n",
        "    option_price = np.exp(-r * T) * (S2 * np.exp((r - q2) * T) * norm.cdf(d1) - S1 * np.exp(-q1 * T) * norm.cdf(d2))\n",
        "\n",
        "    return option_price\n",
        "\n",
        "# Given parameters\n",
        "S1 = 94.910000\n",
        "S2 = 97.560000\n",
        "T = 0.612000\n",
        "K = 1.034000\n",
        "r = 0.046000\n",
        "sigma1 = 0.237700\n",
        "sigma2 = 0.180700\n",
        "rho = 0.060000\n",
        "q1 = 0\n",
        "q2 = 0\n",
        "\n",
        "# Calculate exchange option price\n",
        "exchange_option_price = calculate_exchange_option_price(S1, S2, T, K, r, sigma1, sigma2, rho, q1, q2)\n",
        "\n",
        "print(f\"The exchange option price is: {exchange_option_price:.6f}\")"
      ],
      "metadata": {
        "colab": {
          "base_uri": "https://localhost:8080/"
        },
        "id": "cY_x74NPpUlO",
        "outputId": "922cae43-e8d8-4935-ae60-10bbf3c2f8e5"
      },
      "execution_count": null,
      "outputs": [
        {
          "output_type": "stream",
          "name": "stdout",
          "text": [
            "The exchange option price is: 11.465538\n"
          ]
        }
      ]
    }
  ],
  "metadata": {
    "kernelspec": {
      "display_name": "Python 3",
      "language": "python",
      "name": "python3"
    },
    "language_info": {
      "codemirror_mode": {
        "name": "ipython",
        "version": 3
      },
      "file_extension": ".py",
      "mimetype": "text/x-python",
      "name": "python",
      "nbconvert_exporter": "python",
      "pygments_lexer": "ipython3",
      "version": "3.11.1"
    },
    "orig_nbformat": 4,
    "colab": {
      "provenance": []
    }
  },
  "nbformat": 4,
  "nbformat_minor": 0
}