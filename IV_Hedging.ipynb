{
  "cells": [
    {
      "cell_type": "code",
      "execution_count": null,
      "id": "e11ab2c9-be83-4aea-b7b8-c658641765c7",
      "metadata": {
        "id": "e11ab2c9-be83-4aea-b7b8-c658641765c7"
      },
      "outputs": [],
      "source": [
        "import numpy as np\n",
        "import pandas as pd\n",
        "import matplotlib.pyplot as plt\n",
        "from scipy.stats import norm\n",
        "from numpy.random import default_rng\n",
        "rng = default_rng()"
      ]
    },
    {
      "cell_type": "code",
      "execution_count": null,
      "id": "5c18e337-709c-4ede-ac11-080cbf7bbc06",
      "metadata": {
        "id": "5c18e337-709c-4ede-ac11-080cbf7bbc06"
      },
      "outputs": [],
      "source": [
        "def call(T, S0, K, sigma, r, q):\n",
        "    d1 = np.log(S0*np.exp((r-q)*T)/K)/(sigma*np.sqrt(T)) + 0.5*sigma*np.sqrt(T)\n",
        "    d2 = d1 - sigma*np.sqrt(T)\n",
        "    return S0*np.exp(-q*T)*norm.cdf(d1) - K*np.exp(-r*T)*norm.cdf(d2)\n",
        "\n",
        "def delta(T, S0, K, sigma, r, q):\n",
        "    d1 = np.log(S0*np.exp((r-q)*T)/K)/(sigma*np.sqrt(T)) + 0.5*sigma*np.sqrt(T)\n",
        "    return np.exp(-q*T)*norm.cdf(d1)\n",
        "\n",
        "def gamma(T, S0, K, sigma, r, q):\n",
        "    d1 = np.log(S0*np.exp((r-q)*T)/K)/(sigma*np.sqrt(T)) + 0.5*sigma*np.sqrt(T)\n",
        "    return np.exp(-q*T)*norm.pdf(d1)/(S0*sigma*np.sqrt(T))\n",
        "\n",
        "def deltaF0(T, F0, K, sigma, q=0):\n",
        "    d1 = np.log(F0*np.exp((-q)*T)/K)/(sigma*np.sqrt(T)) + 0.5*sigma*np.sqrt(T)\n",
        "    return np.exp(-q*T)*norm.cdf(d1)\n",
        "\n",
        "def delta_putF0(T, F0, K, sigma, q):\n",
        "    d1 = np.log(F0*np.exp((-q)*T)/K)/(sigma*np.sqrt(T)) + 0.5*sigma*np.sqrt(T)\n",
        "    return np.exp(-q*T)*(norm.cdf(d1)-1)"
      ]
    },
    {
      "cell_type": "markdown",
      "id": "9163c540-91bf-4b75-995e-a9a1da6580c9",
      "metadata": {
        "id": "9163c540-91bf-4b75-995e-a9a1da6580c9"
      },
      "source": [
        " # Profit and Loss (PnL) at maturity of a Delta hedging strategy"
      ]
    },
    {
      "cell_type": "code",
      "execution_count": null,
      "id": "9961600c-de9c-432d-a5cf-c6d9cf0b0b4b",
      "metadata": {
        "colab": {
          "base_uri": "https://localhost:8080/"
        },
        "id": "9961600c-de9c-432d-a5cf-c6d9cf0b0b4b",
        "outputId": "dbc44a05-0c6d-4a44-f613-75b9e2ca763c"
      },
      "outputs": [
        {
          "output_type": "stream",
          "name": "stdout",
          "text": [
            "Date;Spot;\n",
            "0.000000;94.010000;\n",
            "0.004000;93.840000;\n",
            "0.008000;94.470000;\n",
            "0.012000;92.620000;\n"
          ]
        }
      ],
      "source": [
        "file = open('téléchargement (17).csv')\n",
        "for i, line in zip(range(5), file):\n",
        "    print(line.strip())"
      ]
    },
    {
      "cell_type": "code",
      "execution_count": null,
      "id": "ad978a72-f34f-4d56-a7b9-ed3a551cde97",
      "metadata": {
        "colab": {
          "base_uri": "https://localhost:8080/"
        },
        "id": "ad978a72-f34f-4d56-a7b9-ed3a551cde97",
        "outputId": "014a5179-7985-4826-eba4-d61eac4f42b7"
      },
      "outputs": [
        {
          "output_type": "stream",
          "name": "stdout",
          "text": [
            "<class 'pandas.core.frame.DataFrame'>\n",
            "RangeIndex: 231 entries, 0 to 230\n",
            "Data columns (total 2 columns):\n",
            " #   Column  Non-Null Count  Dtype  \n",
            "---  ------  --------------  -----  \n",
            " 0   Date    231 non-null    float64\n",
            " 1   Spot    231 non-null    float64\n",
            "dtypes: float64(2)\n",
            "memory usage: 3.7 KB\n"
          ]
        }
      ],
      "source": [
        "df = pd.read_csv('téléchargement (17).csv', delimiter=\";\").drop(columns='Unnamed: 2')\n",
        "df.info()"
      ]
    },
    {
      "cell_type": "code",
      "execution_count": null,
      "id": "522d66d9-f8e2-4a08-9bad-de4c01a3f637",
      "metadata": {
        "colab": {
          "base_uri": "https://localhost:8080/"
        },
        "id": "522d66d9-f8e2-4a08-9bad-de4c01a3f637",
        "outputId": "e3f1ecb4-002f-4d89-9107-3743a228f7e4"
      },
      "outputs": [
        {
          "output_type": "execute_result",
          "data": {
            "text/plain": [
              "47.269999999999996"
            ]
          },
          "metadata": {},
          "execution_count": 6
        }
      ],
      "source": [
        "T = 0.266\n",
        "K = 103.3\n",
        "r = 0.002\n",
        "sigma = 0.2\n",
        "q = 0\n",
        "\n",
        "S = df[\"Spot\"].to_numpy()\n",
        "temps = df[\"Date\"].to_numpy()\n",
        "dt = np.diff(temps)\n",
        "\n",
        "max(S[-1]-K,0)"
      ]
    },
    {
      "cell_type": "code",
      "execution_count": null,
      "id": "c3f26768-7c59-4e05-a943-f9aa898f2432",
      "metadata": {
        "colab": {
          "base_uri": "https://localhost:8080/"
        },
        "id": "c3f26768-7c59-4e05-a943-f9aa898f2432",
        "outputId": "c331f152-7119-4aa0-95ec-eb2c8c2a35c4"
      },
      "outputs": [
        {
          "output_type": "stream",
          "name": "stderr",
          "text": [
            "<ipython-input-2-88748bafa6f7>:7: RuntimeWarning: invalid value encountered in sqrt\n",
            "  d1 = np.log(S0*np.exp((r-q)*T)/K)/(sigma*np.sqrt(T)) + 0.5*sigma*np.sqrt(T)\n"
          ]
        }
      ],
      "source": [
        "V = np.empty(len(S))\n",
        "V[0] = call(T=T, S0=S[0], K=K, sigma=sigma, r=r, q=q)\n",
        "deltas = delta(T=T-temps[:-1], S0=S[:-1], K=K, sigma=sigma, r=r, q=q)\n",
        "deltas[1:] = deltas[:-1] + np.diff(deltas)\n",
        "#deltas[i] * S[i] * (1 - np.exp(r*dt[i]))\n",
        "\n",
        "for i in range(len(S)-1):\n",
        "    V[i+1] = deltas[i] * S[i+1] + (V[i]- deltas[i]*S[i]) * np.exp(r*dt[i])"
      ]
    },
    {
      "cell_type": "code",
      "source": [
        "len(S)"
      ],
      "metadata": {
        "colab": {
          "base_uri": "https://localhost:8080/"
        },
        "id": "wx7fBCUvmu1_",
        "outputId": "c547b85c-bfda-4b2d-f2ad-b289c6a0d2ea"
      },
      "id": "wx7fBCUvmu1_",
      "execution_count": null,
      "outputs": [
        {
          "output_type": "execute_result",
          "data": {
            "text/plain": [
              "214"
            ]
          },
          "metadata": {},
          "execution_count": 13
        }
      ]
    },
    {
      "cell_type": "code",
      "source": [
        "len(deltas)"
      ],
      "metadata": {
        "colab": {
          "base_uri": "https://localhost:8080/"
        },
        "id": "KAKk2m93msR7",
        "outputId": "9ec2ac5b-f345-4ad3-cb70-1ce5f994ccbd"
      },
      "id": "KAKk2m93msR7",
      "execution_count": null,
      "outputs": [
        {
          "output_type": "execute_result",
          "data": {
            "text/plain": [
              "213"
            ]
          },
          "metadata": {},
          "execution_count": 12
        }
      ]
    },
    {
      "cell_type": "code",
      "execution_count": null,
      "id": "e0b14956-68f9-4d8b-b436-7346d951d09d",
      "metadata": {
        "colab": {
          "base_uri": "https://localhost:8080/"
        },
        "id": "e0b14956-68f9-4d8b-b436-7346d951d09d",
        "outputId": "88dbb8fe-5f37-4c67-e3c9-4e5531e14fa2"
      },
      "outputs": [
        {
          "output_type": "execute_result",
          "data": {
            "text/plain": [
              "nan"
            ]
          },
          "metadata": {},
          "execution_count": 8
        }
      ],
      "source": [
        "V[-1] - max(S[-1]-K,0)"
      ]
    },
    {
      "cell_type": "markdown",
      "id": "7bb774f8-8159-47ff-8995-75c65c18cdc6",
      "metadata": {
        "id": "7bb774f8-8159-47ff-8995-75c65c18cdc6"
      },
      "source": [
        "# Robustness of the Black and Scholes Formula"
      ]
    },
    {
      "cell_type": "code",
      "execution_count": null,
      "id": "714cad8c-6f79-43ce-81a1-f0686699e592",
      "metadata": {
        "colab": {
          "base_uri": "https://localhost:8080/"
        },
        "id": "714cad8c-6f79-43ce-81a1-f0686699e592",
        "outputId": "079e975e-d798-4d8f-c0c2-8edfe10fbb44"
      },
      "outputs": [
        {
          "output_type": "stream",
          "name": "stdout",
          "text": [
            "Date;Spot;\n",
            "0.000000;94.010000;\n",
            "0.004000;93.840000;\n",
            "0.008000;94.470000;\n",
            "0.012000;92.620000;\n"
          ]
        }
      ],
      "source": [
        "file = open('téléchargement (17).csv')\n",
        "for i, line in zip(range(5), file):\n",
        "    print(line.strip())"
      ]
    },
    {
      "cell_type": "code",
      "execution_count": null,
      "id": "7bacd44a-0ee4-4b6a-941f-0cebc0b8a099",
      "metadata": {
        "colab": {
          "base_uri": "https://localhost:8080/"
        },
        "id": "7bacd44a-0ee4-4b6a-941f-0cebc0b8a099",
        "outputId": "56211a0e-4e53-45e0-bbbf-d73897996222"
      },
      "outputs": [
        {
          "output_type": "stream",
          "name": "stdout",
          "text": [
            "<class 'pandas.core.frame.DataFrame'>\n",
            "RangeIndex: 231 entries, 0 to 230\n",
            "Data columns (total 2 columns):\n",
            " #   Column  Non-Null Count  Dtype  \n",
            "---  ------  --------------  -----  \n",
            " 0   Date    231 non-null    float64\n",
            " 1   Spot    231 non-null    float64\n",
            "dtypes: float64(2)\n",
            "memory usage: 3.7 KB\n"
          ]
        }
      ],
      "source": [
        "df = pd.read_csv('téléchargement (17).csv', delimiter=\";\").drop(columns='Unnamed: 2')\n",
        "df.info()"
      ]
    },
    {
      "cell_type": "code",
      "execution_count": null,
      "id": "19aa5024-7fe9-40c7-a356-bd6b9eae22d7",
      "metadata": {
        "colab": {
          "base_uri": "https://localhost:8080/"
        },
        "id": "19aa5024-7fe9-40c7-a356-bd6b9eae22d7",
        "outputId": "edef22fb-8dae-4bb0-aaa2-83651a5d464a"
      },
      "outputs": [
        {
          "output_type": "execute_result",
          "data": {
            "text/plain": [
              "0.6149642287627773"
            ]
          },
          "metadata": {},
          "execution_count": 7
        }
      ],
      "source": [
        "K = 96.55\n",
        "T = 0.920\n",
        "r = 4.9/100\n",
        "q = 0\n",
        "vol_mod = 22.7/100\n",
        "vol_real = 20.5/100\n",
        "dvol = vol_mod**2 - vol_real**2\n",
        "\n",
        "S = df[\"Spot\"].to_numpy()\n",
        "temps = df[\"Date\"].to_numpy()\n",
        "\n",
        "dt = np.diff(temps)\n",
        "gammas = gamma(T=T-temps[:-1], S0=S[:-1], K=K, sigma=vol_mod, r=r, q=q)\n",
        "intégrande = np.exp(-r*temps[:-1]) * S[:-1]**2 * gammas * dvol\n",
        "\n",
        "PL = 0.5* np.exp(r*T) * (dt * intégrande).sum()\n",
        "PL"
      ]
    },
    {
      "cell_type": "markdown",
      "id": "e90caedc-5d70-476f-a17d-0cd49fbb9fdf",
      "metadata": {
        "id": "e90caedc-5d70-476f-a17d-0cd49fbb9fdf"
      },
      "source": [
        "# Implied Volatility smile"
      ]
    },
    {
      "cell_type": "code",
      "execution_count": null,
      "id": "0f2d013c-1881-44f2-8ba9-eb393a6b3796",
      "metadata": {
        "id": "0f2d013c-1881-44f2-8ba9-eb393a6b3796",
        "outputId": "fb4d382c-6160-4f9f-f472-57cdcfd1c152"
      },
      "outputs": [
        {
          "name": "stdout",
          "output_type": "stream",
          "text": [
            "Strike;IV;\n",
            "25.393322;0.867020;\n",
            "25.464595;0.866415;\n",
            "25.536067;0.865810;\n",
            "25.607740;0.865205;\n"
          ]
        }
      ],
      "source": [
        "file = open('data/Implied-Volatility5.csv')\n",
        "for i, line in zip(range(5), file):\n",
        "    print(line.strip())"
      ]
    },
    {
      "cell_type": "code",
      "execution_count": null,
      "id": "041be382-a11d-4d78-b8a8-fd1564ff17b7",
      "metadata": {
        "id": "041be382-a11d-4d78-b8a8-fd1564ff17b7",
        "outputId": "8f238916-4fd4-42bc-8d6c-8fb7c689382e"
      },
      "outputs": [
        {
          "name": "stdout",
          "output_type": "stream",
          "text": [
            "<class 'pandas.core.frame.DataFrame'>\n",
            "RangeIndex: 1000 entries, 0 to 999\n",
            "Data columns (total 3 columns):\n",
            " #   Column      Non-Null Count  Dtype  \n",
            "---  ------      --------------  -----  \n",
            " 0   Strike      1000 non-null   float64\n",
            " 1   IV          1000 non-null   float64\n",
            " 2   Unnamed: 2  0 non-null      float64\n",
            "dtypes: float64(3)\n",
            "memory usage: 23.6 KB\n"
          ]
        }
      ],
      "source": [
        "df = pd.read_csv('data/Implied-Volatility5.csv', delimiter=\";\")\n",
        "df.info()\n",
        "#df"
      ]
    },
    {
      "cell_type": "code",
      "execution_count": null,
      "id": "419203aa-5138-44b5-a629-2ebb8c4642c6",
      "metadata": {
        "id": "419203aa-5138-44b5-a629-2ebb8c4642c6"
      },
      "outputs": [],
      "source": [
        "T = 0.593\n",
        "F0 = 102.975\n",
        "\n",
        "strk = df[\"Strike\"].to_numpy()\n",
        "iv = df[\"IV\"].to_numpy()"
      ]
    },
    {
      "cell_type": "code",
      "execution_count": null,
      "id": "455064c8-ff62-40b5-b96b-5998e399648f",
      "metadata": {
        "id": "455064c8-ff62-40b5-b96b-5998e399648f",
        "outputId": "ca30cf40-7311-4611-9972-cde0ad00edd3"
      },
      "outputs": [
        {
          "name": "stdout",
          "output_type": "stream",
          "text": [
            "[0.25035405 0.24783395]\n",
            "[0.50240566 0.49943816]\n",
            "[0.75115667 0.74924942]\n"
          ]
        }
      ],
      "source": [
        "delt = deltaF0(T=T, F0=F0, K=strk, sigma=iv, q=0)\n",
        "\n",
        "cond_25 = (delt<0.2516) & (delt>0.247)\n",
        "cond_50 = (delt<0.5031) & (delt>0.497)\n",
        "cond_75 = (delt<0.7521) & (delt>0.749)\n",
        "\n",
        "print(delt[cond_25])\n",
        "print(delt[cond_50])\n",
        "print(delt[cond_75])"
      ]
    },
    {
      "cell_type": "code",
      "execution_count": null,
      "id": "8ea4dff0-0b2e-4949-9685-d02fb1ee35ae",
      "metadata": {
        "id": "8ea4dff0-0b2e-4949-9685-d02fb1ee35ae",
        "outputId": "8222d864-f863-4fb6-d705-55fc3d82839e"
      },
      "outputs": [
        {
          "name": "stdout",
          "output_type": "stream",
          "text": [
            "IV for strike at which the Call Delta equal 25% :  0.48457890170731405\n"
          ]
        }
      ],
      "source": [
        "x = delt[cond_25]\n",
        "y = iv[cond_25]\n",
        "#print(y)\n",
        "\n",
        "a = (y[1]-y[0])/(x[1]-x[0])\n",
        "b = y[0]-a*x[0]\n",
        "ivcall_25 = a*0.25+b\n",
        "\n",
        "print(\"IV for strike at which the Call Delta equal 25% : \", ivcall_25)\n",
        "#plt.plot(x,y)\n",
        "#plt.show()"
      ]
    },
    {
      "cell_type": "code",
      "execution_count": null,
      "id": "10696fb3-32e8-46e6-acbe-662a1f83e335",
      "metadata": {
        "id": "10696fb3-32e8-46e6-acbe-662a1f83e335",
        "outputId": "ab3c5c6e-49d7-4866-f9d5-c269aded924a"
      },
      "outputs": [
        {
          "name": "stdout",
          "output_type": "stream",
          "text": [
            "IV for strike at which the Call Delta equal 50% :  0.5173211555658743\n"
          ]
        }
      ],
      "source": [
        "x = delt[cond_50]\n",
        "y = iv[cond_50]\n",
        "#print(y)\n",
        "\n",
        "a = (y[1]-y[0])/(x[1]-x[0])\n",
        "b = y[0]-a*x[0]\n",
        "ivcall_50 = a*0.5+b\n",
        "\n",
        "print(\"IV for strike at which the Call Delta equal 50% : \", ivcall_50)\n",
        "#plt.plot(x,y)\n",
        "#plt.show()"
      ]
    },
    {
      "cell_type": "code",
      "execution_count": null,
      "id": "ea420c0b-4b27-49be-b662-649fabb2f71c",
      "metadata": {
        "id": "ea420c0b-4b27-49be-b662-649fabb2f71c",
        "outputId": "d43b3d5e-2a4a-405e-9e93-f5be342533f3"
      },
      "outputs": [
        {
          "name": "stdout",
          "output_type": "stream",
          "text": [
            "IV for strike at which the Call Delta equal 75% :  0.5799513609897642\n"
          ]
        }
      ],
      "source": [
        "x = delt[cond_75]\n",
        "y = iv[cond_75]\n",
        "#print(y)\n",
        "\n",
        "a = (y[1]-y[0])/(x[1]-x[0])\n",
        "b = y[0]-a*x[0]\n",
        "ivcall_75 = a*0.75+b\n",
        "\n",
        "print(\"IV for strike at which the Call Delta equal 75% : \", ivcall_75)\n",
        "#plt.plot(x,y)\n",
        "#plt.show()"
      ]
    },
    {
      "cell_type": "code",
      "execution_count": null,
      "id": "49a964a3-4a0c-49d9-ac6a-30346040c560",
      "metadata": {
        "id": "49a964a3-4a0c-49d9-ac6a-30346040c560",
        "outputId": "5a068513-4815-43f5-d773-b6610f948781"
      },
      "outputs": [
        {
          "name": "stdout",
          "output_type": "stream",
          "text": [
            "Vol risk metrics for butterfly position :  0.01494397578266482\n",
            "Vol risk metrics for risk-reversal position :  -0.09537245928245014\n"
          ]
        }
      ],
      "source": [
        "print(\"Vol risk metrics for butterfly position : \", 0.5*(ivcall_25 + ivcall_75) - ivcall_50 )\n",
        "print(\"Vol risk metrics for risk-reversal position : \", ivcall_25 - ivcall_75 )"
      ]
    },
    {
      "cell_type": "code",
      "execution_count": null,
      "id": "53d24de2-1f27-4159-8371-cd776f061fef",
      "metadata": {
        "id": "53d24de2-1f27-4159-8371-cd776f061fef",
        "outputId": "e3b19f6a-abab-4176-d857-e33feae6e56e"
      },
      "outputs": [
        {
          "name": "stdout",
          "output_type": "stream",
          "text": [
            "[-0.74964595 -0.75216605]\n"
          ]
        }
      ],
      "source": [
        "delt = delta_putF0(T=T, F0=F0, K=strk, sigma=iv, q=0)\n",
        "cond = (delt>-0.753) & (delt<-0.749)\n",
        "print(delt[cond])"
      ]
    },
    {
      "cell_type": "code",
      "execution_count": null,
      "id": "4aed78c8-aa06-4f9e-975e-308a4ff7b816",
      "metadata": {
        "id": "4aed78c8-aa06-4f9e-975e-308a4ff7b816",
        "outputId": "2bb8cd77-f80a-4323-f36a-c325b6f10ac7"
      },
      "outputs": [
        {
          "name": "stdout",
          "output_type": "stream",
          "text": [
            "0.48457890170731405\n"
          ]
        }
      ],
      "source": [
        "x = delt[cond]\n",
        "y = iv[cond]\n",
        "#print(y)\n",
        "\n",
        "a = (y[1]-y[0])/(x[1]-x[0])\n",
        "b = y[0]-a*x[0]\n",
        "ivput_75 = -a*0.75+b\n",
        "\n",
        "print(ivput_75)\n",
        "#plt.plot(x,y)\n",
        "#plt.show()"
      ]
    },
    {
      "cell_type": "code",
      "execution_count": null,
      "id": "2afc6b43-e7c0-43bc-9cef-23562cf8853f",
      "metadata": {
        "id": "2afc6b43-e7c0-43bc-9cef-23562cf8853f",
        "outputId": "5eb9aa58-3052-4e4d-d6e7-7f10f8afbf04"
      },
      "outputs": [
        {
          "name": "stdout",
          "output_type": "stream",
          "text": [
            "True\n"
          ]
        }
      ],
      "source": [
        "print(ivcall_25 == ivput_75)"
      ]
    },
    {
      "cell_type": "markdown",
      "id": "de5aa2e7-72b0-4d0b-9199-8ee77bee93c4",
      "metadata": {
        "id": "de5aa2e7-72b0-4d0b-9199-8ee77bee93c4"
      },
      "source": [
        "# VWAP"
      ]
    },
    {
      "cell_type": "code",
      "execution_count": null,
      "id": "18b9d382-acb8-4a64-ba09-eb6cfdc9b818",
      "metadata": {
        "id": "18b9d382-acb8-4a64-ba09-eb6cfdc9b818",
        "outputId": "7a535b32-1172-477d-b1c4-6c46c813c647"
      },
      "outputs": [
        {
          "name": "stdout",
          "output_type": "stream",
          "text": [
            "Price;Volume;\n",
            "294.518930;0.226657;\n",
            "295.175774;0.163936;\n",
            "294.043418;0.175429;\n",
            "295.518301;0.128019;\n"
          ]
        }
      ],
      "source": [
        "file = open('data/vwap3.csv')\n",
        "for i, line in zip(range(5), file):\n",
        "    print(line.strip())"
      ]
    },
    {
      "cell_type": "code",
      "execution_count": null,
      "id": "73329ee4-4be8-4abe-bf78-608fd41c479f",
      "metadata": {
        "id": "73329ee4-4be8-4abe-bf78-608fd41c479f",
        "outputId": "25bc65fe-bf22-4011-aef7-983b0b416473"
      },
      "outputs": [
        {
          "name": "stdout",
          "output_type": "stream",
          "text": [
            "<class 'pandas.core.frame.DataFrame'>\n",
            "RangeIndex: 158 entries, 0 to 157\n",
            "Data columns (total 3 columns):\n",
            " #   Column      Non-Null Count  Dtype  \n",
            "---  ------      --------------  -----  \n",
            " 0   Price       158 non-null    float64\n",
            " 1   Volume      158 non-null    float64\n",
            " 2   Unnamed: 2  0 non-null      float64\n",
            "dtypes: float64(3)\n",
            "memory usage: 3.8 KB\n"
          ]
        }
      ],
      "source": [
        "df = pd.read_csv('data/vwap3.csv', delimiter=\";\")\n",
        "df.info()"
      ]
    },
    {
      "cell_type": "code",
      "execution_count": null,
      "id": "d93f9ee3-eac8-49e1-9bba-f29679f8ccbb",
      "metadata": {
        "id": "d93f9ee3-eac8-49e1-9bba-f29679f8ccbb",
        "outputId": "50f5d4dd-3758-4dcb-f5cb-72bf8431b44a"
      },
      "outputs": [
        {
          "data": {
            "text/plain": [
              "293.43787785365214"
            ]
          },
          "execution_count": 26,
          "metadata": {},
          "output_type": "execute_result"
        }
      ],
      "source": [
        "price= df[\"Price\"].to_numpy()\n",
        "volume = df[\"Volume\"].to_numpy()\n",
        "\n",
        "(price*volume).sum() / volume.sum()"
      ]
    },
    {
      "cell_type": "markdown",
      "id": "372a6d27-fd0e-4dd2-8fc0-f240658a2a1d",
      "metadata": {
        "id": "372a6d27-fd0e-4dd2-8fc0-f240658a2a1d"
      },
      "source": [
        "# VWM"
      ]
    },
    {
      "cell_type": "code",
      "execution_count": null,
      "id": "6e706080-b6db-43ed-b326-daf88172716d",
      "metadata": {
        "id": "6e706080-b6db-43ed-b326-daf88172716d",
        "outputId": "b1f645e6-28f0-4329-aa00-7d27cd620d82"
      },
      "outputs": [
        {
          "name": "stdout",
          "output_type": "stream",
          "text": [
            "Price;Volume;\n",
            "150.173980;0.749963;\n",
            "148.717362;0.122394;\n",
            "149.928079;0.100547;\n",
            "148.876215;0.154720;\n"
          ]
        }
      ],
      "source": [
        "file = open('data/vwm3.csv')\n",
        "for i, line in zip(range(5), file):\n",
        "    print(line.strip())"
      ]
    },
    {
      "cell_type": "code",
      "execution_count": null,
      "id": "c399da9c-3cfc-4aa9-b527-ef1cde0a6a4b",
      "metadata": {
        "id": "c399da9c-3cfc-4aa9-b527-ef1cde0a6a4b",
        "outputId": "f180fea3-5bad-4f98-bff5-06afdb91a1b4"
      },
      "outputs": [
        {
          "name": "stdout",
          "output_type": "stream",
          "text": [
            "<class 'pandas.core.frame.DataFrame'>\n",
            "RangeIndex: 131 entries, 0 to 130\n",
            "Data columns (total 3 columns):\n",
            " #   Column      Non-Null Count  Dtype  \n",
            "---  ------      --------------  -----  \n",
            " 0   Price       131 non-null    float64\n",
            " 1   Volume      131 non-null    float64\n",
            " 2   Unnamed: 2  0 non-null      float64\n",
            "dtypes: float64(3)\n",
            "memory usage: 3.2 KB\n"
          ]
        }
      ],
      "source": [
        "df = pd.read_csv('data/vwm3.csv', delimiter=\";\")\n",
        "df.info()"
      ]
    },
    {
      "cell_type": "code",
      "execution_count": null,
      "id": "60ee2b0e-89f9-471e-8126-3e04c1c2df56",
      "metadata": {
        "id": "60ee2b0e-89f9-471e-8126-3e04c1c2df56",
        "outputId": "6b17156f-600a-45ea-b2c7-a8df7122315a"
      },
      "outputs": [
        {
          "name": "stdout",
          "output_type": "stream",
          "text": [
            "0.4980325041514574 0.5067950227472652\n",
            "149.436697 149.438993\n"
          ]
        },
        {
          "data": {
            "text/plain": [
              "0.22453542631954138"
            ]
          },
          "execution_count": 29,
          "metadata": {},
          "output_type": "execute_result"
        }
      ],
      "source": [
        "price = df[\"Price\"].to_numpy()\n",
        "volume = df[\"Volume\"].to_numpy()\n",
        "order = np.argsort(price)\n",
        "sorted_p = price[order]\n",
        "sorted_v = volume[order]\n",
        "cum_v = sorted_v.cumsum()\n",
        "sum_v = volume.sum()\n",
        "index = np.flatnonzero(cum_v/sum_v >= 0.5)[0]\n",
        "print((cum_v/sum_v)[index-1], (cum_v/sum_v)[index])\n",
        "print(sorted_p[index-1], sorted_p[index])\n",
        "weight = ( 0.5 - (cum_v/sum_v)[index-1] ) / ( (cum_v/sum_v)[index] - (cum_v/sum_v)[index-1] )\n",
        "weight"
      ]
    },
    {
      "cell_type": "code",
      "execution_count": null,
      "id": "12ca54a8-3edc-4f79-b7a0-73bb562b0a27",
      "metadata": {
        "id": "12ca54a8-3edc-4f79-b7a0-73bb562b0a27",
        "outputId": "cb996bf0-35f0-49a5-d1c9-19fccf508b1b"
      },
      "outputs": [
        {
          "data": {
            "text/plain": [
              "149.43721253333882"
            ]
          },
          "execution_count": 30,
          "metadata": {},
          "output_type": "execute_result"
        }
      ],
      "source": [
        "(1-weight)*sorted_p[index-1] + weight*sorted_p[index]"
      ]
    },
    {
      "cell_type": "code",
      "execution_count": null,
      "id": "558cbd4f-46cb-4e8f-afef-077b3f1c1672",
      "metadata": {
        "id": "558cbd4f-46cb-4e8f-afef-077b3f1c1672",
        "outputId": "f6a03842-b571-465c-8f0a-d580cc171588"
      },
      "outputs": [
        {
          "data": {
            "text/plain": [
              "12.5"
            ]
          },
          "execution_count": 53,
          "metadata": {},
          "output_type": "execute_result"
        }
      ],
      "source": [
        "T = 5\n",
        "Y = np.linspace(0,T,100)\n",
        "T*Y.mean()"
      ]
    },
    {
      "cell_type": "code",
      "execution_count": null,
      "id": "a8fcf193-7f36-4683-89b0-a71943729f12",
      "metadata": {
        "id": "a8fcf193-7f36-4683-89b0-a71943729f12",
        "outputId": "00a58bad-89ba-42fd-b6f3-24c539608964"
      },
      "outputs": [
        {
          "data": {
            "text/plain": [
              "12.499999999999998"
            ]
          },
          "execution_count": 58,
          "metadata": {},
          "output_type": "execute_result"
        }
      ],
      "source": [
        "(np.diff(Y)*(Y[:-1]+Y[1:])/2).sum()"
      ]
    },
    {
      "cell_type": "code",
      "execution_count": null,
      "id": "6622cdea-203f-4f4d-bba7-fc959707f64f",
      "metadata": {
        "id": "6622cdea-203f-4f4d-bba7-fc959707f64f"
      },
      "outputs": [],
      "source": []
    }
  ],
  "metadata": {
    "kernelspec": {
      "display_name": "Python 3 (ipykernel)",
      "language": "python",
      "name": "python3"
    },
    "language_info": {
      "codemirror_mode": {
        "name": "ipython",
        "version": 3
      },
      "file_extension": ".py",
      "mimetype": "text/x-python",
      "name": "python",
      "nbconvert_exporter": "python",
      "pygments_lexer": "ipython3",
      "version": "3.11.4"
    },
    "colab": {
      "provenance": []
    }
  },
  "nbformat": 4,
  "nbformat_minor": 5
}